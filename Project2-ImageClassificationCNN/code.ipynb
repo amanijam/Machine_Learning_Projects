{
  "cells": [
    {
      "cell_type": "code",
      "execution_count": null,
      "metadata": {
        "id": "sznachVRhQzQ"
      },
      "outputs": [],
      "source": [
        "import numpy as np\n",
        "import pandas as pd\n",
        "from scipy.special import logsumexp\n",
        "from scipy.special import softmax\n",
        "import matplotlib.pyplot as plt"
      ]
    },
    {
      "cell_type": "markdown",
      "metadata": {
        "id": "paE7TyGGgtwV"
      },
      "source": [
        "# Acquire Data"
      ]
    },
    {
      "cell_type": "code",
      "execution_count": null,
      "metadata": {
        "colab": {
          "base_uri": "https://localhost:8080/",
          "height": 136,
          "referenced_widgets": [
            "86ef6d4b667a4955b34d281ad35dc33c",
            "f04992193a14484a8412def475826f96",
            "c72263c9d61a4ff6bae980c237590f36",
            "1be7e58a4e0a4d15891a4234a543c133",
            "75e6963a5db748a4b97a4b2ca889ec91",
            "617a5b2b2922455f8f33b6bad8f04da2",
            "799289ea44f84354bdc159cb94b9a6a7",
            "69a14b8188c044d29b1f98c721bfec5b",
            "95d8c5171111403597ada6b392e64d2d",
            "a199212ec9fa46b0a9ef8297031dcdb7",
            "19b518fea89041a7bfe52ae7a5db3ed1"
          ]
        },
        "id": "xnMHQ_w1Tx2s",
        "outputId": "29dec834-8def-42a6-b305-252152bce842"
      },
      "outputs": [
        {
          "name": "stdout",
          "output_type": "stream",
          "text": [
            "Downloading https://www.cs.toronto.edu/~kriz/cifar-10-python.tar.gz to ./data/cifar-10-python.tar.gz\n"
          ]
        },
        {
          "data": {
            "application/vnd.jupyter.widget-view+json": {
              "model_id": "86ef6d4b667a4955b34d281ad35dc33c",
              "version_major": 2,
              "version_minor": 0
            },
            "text/plain": [
              "  0%|          | 0/170498071 [00:00<?, ?it/s]"
            ]
          },
          "metadata": {},
          "output_type": "display_data"
        },
        {
          "name": "stdout",
          "output_type": "stream",
          "text": [
            "Extracting ./data/cifar-10-python.tar.gz to ./data\n",
            "Files already downloaded and verified\n",
            "Files already downloaded and verified\n",
            "Files already downloaded and verified\n"
          ]
        }
      ],
      "source": [
        "import torch\n",
        "import torchvision\n",
        "import torchvision.transforms as transforms\n",
        "\n",
        "# Normalize training and test sets\n",
        "\n",
        "transform = transforms.Compose(\n",
        "    [transforms.ToTensor(),\n",
        "     transforms.Normalize((0.5, 0.5, 0.5), (0.5, 0.5, 0.5))])\n",
        "transform_unormalized = transforms.Compose(\n",
        "    [transforms.ToTensor()])\n",
        "\n",
        "\n",
        "batch_size = 4\n",
        "\n",
        "trainset = torchvision.datasets.CIFAR10(root='./data', train=True,\n",
        "                                        download=True, transform=transform)\n",
        "trainloader = torch.utils.data.DataLoader(trainset, batch_size=batch_size,\n",
        "                                          shuffle=True, num_workers=2)\n",
        "\n",
        "trainset_unormalized = torchvision.datasets.CIFAR10(root='./data', train=True,\n",
        "                                        download=True, transform=transform_unormalized)\n",
        "trainloader_unormalized = torch.utils.data.DataLoader(trainset_unormalized, batch_size=batch_size,\n",
        "                                          shuffle=True, num_workers=2)\n",
        "\n",
        "testset = torchvision.datasets.CIFAR10(root='./data', train=False,\n",
        "                                       download=True, transform=transform)\n",
        "testloader = torch.utils.data.DataLoader(testset, batch_size=batch_size,\n",
        "                                         shuffle=False, num_workers=2)\n",
        "\n",
        "testset_unormalized = torchvision.datasets.CIFAR10(root='./data', train=False,\n",
        "                                       download=True, transform=transform_unormalized)\n",
        "testloader_unormalized = torch.utils.data.DataLoader(testset_unormalized, batch_size=batch_size,\n",
        "                                         shuffle=False, num_workers=2)"
      ]
    },
    {
      "cell_type": "markdown",
      "metadata": {
        "id": "1_LDY2PPgwYX"
      },
      "source": [
        "# Implementation"
      ]
    },
    {
      "cell_type": "markdown",
      "metadata": {
        "id": "3dbVShbtUFJ8"
      },
      "source": [
        "## Activation Functions and their Derivatives"
      ]
    },
    {
      "cell_type": "code",
      "execution_count": null,
      "metadata": {
        "id": "tU6jbFZkUH1w"
      },
      "outputs": [],
      "source": [
        "# Identity Function\n",
        "identity = lambda z: z\n",
        "der_identity = lambda z: 1\n",
        "\n",
        "# Logistic\n",
        "logistic = lambda z: 1./ (1 + np.exp(-z))\n",
        "der_logistic = lambda z: logistic(z)(1-logistic(z))\n",
        "\n",
        "# Hyperbolic Tangent\n",
        "tanh = lambda z: 2.*logistic(z)-1\n",
        "der_tanh = lambda z: 1 - (tanh(z))**2\n",
        "\n",
        "# ReLU\n",
        "relu = lambda z: np.maximum(0., z)\n",
        "der_relu = lambda z: np.heaviside(z, 0)\n",
        "\n",
        "# Leaky ReLU\n",
        "leaky_relu = lambda z, gamma=0.01: np.maximum(0., z) + gamma*np.minimum(0., z)\n",
        "der_leaky_relu = lambda z, gamma=0.01: 1.0*(z > 0) + gamma*(z <= 0)"
      ]
    },
    {
      "cell_type": "markdown",
      "metadata": {
        "id": "rmGhfRQWUJ9M"
      },
      "source": [
        "## Softmax Cross Entropy"
      ]
    },
    {
      "cell_type": "code",
      "execution_count": null,
      "metadata": {
        "id": "VPhPwYEO5UuE"
      },
      "outputs": [],
      "source": [
        "def softmax_cross_entropy(x,y,weights,act_fun=relu):\n",
        "    ind = len(weights)\n",
        "    if(ind == 1):\n",
        "        w = weights[0]\n",
        "        u = np.dot(x, w)\n",
        "        yh = softmax(u)#N\n",
        "        nll =  - np.mean(np.sum(u*y,1) - logsumexp(u))\n",
        "        # nll =  - np.mean(np.sum(yh*y,1) - logsumexp(yh))\n",
        "        return nll\n",
        "    if(ind == 2):\n",
        "        v1, w = weights\n",
        "        z = act_fun(np.dot(x, v1)) #N x M\n",
        "        u = np.dot(z, w)\n",
        "        yh = softmax(u)#N\n",
        "        nll =  - np.mean(np.sum(u*y,1) - logsumexp(u))\n",
        "        # nll =  - np.mean(np.sum(yh*y,1) - logsumexp(yh))\n",
        "        return nll\n",
        "    if(ind == 3):\n",
        "        v1, v2, w = weights\n",
        "        z1 = act_fun(np.dot(x, v1)) #N x M\n",
        "        z2 = act_fun(np.dot(z1, v2)) #N x M\n",
        "        u = np.dot(z2, w)\n",
        "        yh = softmax(u)#N\n",
        "        u = np.array(u)\n",
        "        nll =  - np.mean(np.sum(u*y,1) - logsumexp(u))\n",
        "        # nll =  - np.mean(np.sum(yh*y,1) - logsumexp(yh))\n",
        "        return nll\n",
        "\n",
        "def cross_entropy_loss(y, yh):\n",
        "    nll =  - np.mean(np.sum(yh*y, 1) - logsumexp(yh))\n",
        "    return nll "
      ]
    },
    {
      "cell_type": "markdown",
      "metadata": {
        "id": "clBYoLv7UXX4"
      },
      "source": [
        "## Optimizers"
      ]
    },
    {
      "cell_type": "markdown",
      "metadata": {
        "id": "ALa2wpfQUelB"
      },
      "source": [
        "### Gradient Descent"
      ]
    },
    {
      "cell_type": "code",
      "execution_count": null,
      "metadata": {
        "id": "JAKPHPFLUkY2"
      },
      "outputs": [],
      "source": [
        "class GradientDescent:\n",
        "    \n",
        "    def __init__(self, learning_rate=.0001, max_iters=1000, epsilon=1e-8):\n",
        "        self.learning_rate = learning_rate\n",
        "        self.max_iters = max_iters\n",
        "        self.epsilon = epsilon\n",
        "        \n",
        "    def run(self, gradient_fn, x, y, weights):\n",
        "        norms = np.array([np.inf])\n",
        "        t = 1\n",
        "        while np.any(norms > self.epsilon) and t < self.max_iters:\n",
        "            grad = gradient_fn(x, y, weights)\n",
        "            for p in range(len(weights)):\n",
        "                weights[p] -= self.learning_rate * grad[p]\n",
        "            t += 1\n",
        "            norms = np.array([np.linalg.norm(g) for g in grad])\n",
        "        return weights"
      ]
    },
    {
      "cell_type": "markdown",
      "metadata": {
        "id": "7VrgaGTwUOpJ"
      },
      "source": [
        "### Mini Batch Stochastic Gradient Descent"
      ]
    },
    {
      "cell_type": "code",
      "execution_count": null,
      "metadata": {
        "id": "TWHDCdyuUWgW"
      },
      "outputs": [],
      "source": [
        "import copy\n",
        "\n",
        "class MiniBatch_SGD:\n",
        "    \n",
        "    def __init__(self, learning_rate=.0001, batch_size=16, n_epochs=2, epsilon=1e-8, record_history=True, verbose=True, early_stop=True):\n",
        "        self.learning_rate = learning_rate\n",
        "        self.epsilon = epsilon\n",
        "        self.batch_size = batch_size\n",
        "        self.n_epochs = n_epochs\n",
        "        self.record_history = record_history\n",
        "        self.verbose = verbose\n",
        "        self.early_stop = early_stop\n",
        "\n",
        "        if record_history:\n",
        "            self.w_history = []       # to store the weight history for visualization\n",
        "            self.cost_history = []\n",
        "\n",
        "    def run(self, gradient_fn, x, y, weights, cost_fn=softmax_cross_entropy, act_fn=relu):\n",
        "        N, D = x.shape \n",
        "        if self.record_history:\n",
        "            self.w_history = []       # to store the weight history for visualization\n",
        "            self.cost_history = []  \n",
        "\n",
        "        # norms = np.array([np.inf])\n",
        "        prev_cost = float(\"inf\")\n",
        "        prev_weights = copy.copy(weights)\n",
        "        stop =  False\n",
        "        num_iterations = 0\n",
        "\n",
        "        post_stop_count = 0\n",
        "\n",
        "        for epoch in range(self.n_epochs):\n",
        "          # Shuffle dataframe\n",
        "          perm = np.random.permutation(N)\n",
        "          x_random = x[perm]\n",
        "          y_random = y[perm]\n",
        "\n",
        "\n",
        "          # Go through entire dataset taking step size of batch_size\n",
        "          for i in range(0, N, self.batch_size):\n",
        "            x_batch = x_random[i:i+self.batch_size]\n",
        "            y_batch = y_random[i:i+self.batch_size]\n",
        "\n",
        "            grad = gradient_fn(x_batch, y_batch, weights)\n",
        "            for p in range(len(weights)):\n",
        "                weights[p] -= self.learning_rate * grad[p]\n",
        "\n",
        "          num_iterations+=1\n",
        "\n",
        "          cost = cost_fn(x_random, y_random, weights, act_fn)\n",
        "          print(cost)\n",
        "\n",
        "          if(self.early_stop):\n",
        "            if prev_cost < cost:\n",
        "              print(\"STOP\")\n",
        "              stop = True\n",
        "              weights = prev_weights\n",
        "              break\n",
        "            else:\n",
        "              prev_cost = cost\n",
        "              prev_weights = copy.copy(weights)\n",
        "          else:\n",
        "            if prev_cost < cost and post_stop_count==0:\n",
        "              print(\"Early stop enocuntered, running 10 more times\")\n",
        "              stop = True\n",
        "              post_stop_count+= 1\n",
        "            elif post_stop_count > 0:\n",
        "              post_stop_count+=1\n",
        "              if(post_stop_count==10):\n",
        "                break\n",
        "            else:\n",
        "              prev_cost = cost\n",
        "              prev_weights = copy.copy(weights)\n",
        "\n",
        "          if self.record_history:\n",
        "              self.w_history.append(weights)\n",
        "\n",
        "          if self.record_history:\n",
        "              self.cost_history.append(cost)\n",
        "          \n",
        "        if self.record_history:\n",
        "            print(\"Cost History: \")\n",
        "            print(\"****************************************************************************\")\n",
        "            print(self.cost_history)\n",
        "            print(\"****************************************************************************\")\n",
        "\n",
        "        if self.verbose:\n",
        "            if stop == False:\n",
        "              print(f'Ran through all {self.n_epochs} epochs, final cost: {cost}')\n",
        "            else:\n",
        "              print(f'Stopped after {num_iterations} epochs, final cost: {prev_cost}')\n",
        "\n",
        "        return weights"
      ]
    },
    {
      "cell_type": "markdown",
      "metadata": {
        "id": "F2EXz32NUmu6"
      },
      "source": [
        "## MLP"
      ]
    },
    {
      "cell_type": "code",
      "execution_count": null,
      "metadata": {
        "id": "2RZVO_GmBBcT"
      },
      "outputs": [],
      "source": [
        "# Dijian's version of MLP\n",
        "class MLP():\n",
        "    \n",
        "    def __init__(self, act_fun = relu, derivative_act_fun = der_relu, num_hidden_layers = 2, num_units = [64, 64], bias = True, learning_rate = 0.0001, batch_size = 16, n_epochs = 100, regularization=None, lambdaa=1, early_stop=True):\n",
        "        self.num_units = num_units\n",
        "        self.num_hidden_layers = num_hidden_layers\n",
        "        self.bias = bias\n",
        "        self.act_fun = act_fun\n",
        "        self.D_act_fun = derivative_act_fun\n",
        "        self.learning_rate = learning_rate\n",
        "        self.batch_size = batch_size\n",
        "        self.n_epochs = n_epochs\n",
        "        self.regularization = regularization\n",
        "        self.lambdaa = lambdaa\n",
        "        self.weights_his = []\n",
        "        self.cost_his = []\n",
        "        self.early_stop = early_stop\n",
        "\n",
        "        if(self.bias and num_units is not None):\n",
        "            for i in range(len(self.num_units)):\n",
        "                self.num_units[i] = num_units[i]+1\n",
        "\n",
        "        # every index of self.weights is a different weight per layer (ex: index 0 -> V, index 1-> W)\n",
        "        self.weights = []\n",
        "\n",
        "\n",
        "    def fit(self, x, y):\n",
        "        # Optimizer is Mini Batch SGD\n",
        "        optimizer = MiniBatch_SGD(learning_rate=self.learning_rate, batch_size=self.batch_size, n_epochs=self.n_epochs, early_stop=self.early_stop)\n",
        "        if(self.bias):\n",
        "            N = x.shape[0]\n",
        "            x = np.column_stack([x,np.ones(N)])\n",
        "\n",
        "        N,D = x.shape\n",
        "        _, C = y.shape\n",
        "\n",
        "        def gradient(x2, y, params):\n",
        "            dparams = []\n",
        "            N2 = x2.shape[0]\n",
        "            if(self.num_hidden_layers == 0):\n",
        "                w = params[0]\n",
        "                yh = softmax(np.dot(x2, w))#N\n",
        "                dy = yh - y #N\n",
        "                if self.regularization==\"l1\":\n",
        "                    dw = np.dot(x2.T, dy)/N2 #M\n",
        "                    dw[1:] += self.lambdaa * np.sign(w[1:])\n",
        "                elif self.regularization==\"l2\":\n",
        "                    dw = np.dot(x2.T, dy)/N2 #M\n",
        "                    dw[1:] += self.lambdaa * w[1:]\n",
        "                else:\n",
        "                    dw = np.dot(x2.T, dy)/N2 #M\n",
        "                dparams = [dw]\n",
        "\n",
        "            if(self.num_hidden_layers == 1):\n",
        "                v1, w = params\n",
        "                z = self.act_fun(np.dot(x2, v1)) #N x M\n",
        "                z = np.array(z, dtype=np.float64)\n",
        "                yh = softmax(np.dot(z, w))#N\n",
        "                dy = yh - y #N\n",
        "\n",
        "                dw = np.dot(z.T, dy)/N2 #M\n",
        "                if self.regularization==\"l1\":\n",
        "                    dw[1:] += self.lambdaa * np.sign(w[1:])\n",
        "                elif self.regularization==\"l2\":\n",
        "                    dw[1:] += self.lambdaa * w[1:]\n",
        "\n",
        "                dz = np.dot(dy, w.T) #N x M\n",
        "                dz = np.array(dz, dtype=np.float64)\n",
        "                # derivative\n",
        "                dv = np.dot(x2.T, dz * self.D_act_fun(z))/N2 #D x M\n",
        "\n",
        "                if self.regularization==\"l1\":\n",
        "                    dv[1:] += self.lambdaa * np.sign(v1[1:])\n",
        "                elif self.regularization==\"l2\":\n",
        "                    dv[1:] += self.lambdaa * v1[1:]\n",
        "                    \n",
        "                dv = np.array(dv, dtype=np.float64)\n",
        "                dparams = [dv, dw]\n",
        "\n",
        "            if(self.num_hidden_layers == 2):\n",
        "                v1, v2, w = params\n",
        "                z1 = self.act_fun(np.dot(x2, v1)) #N x M\n",
        "                z2 = self.act_fun(np.dot(z1, v2)) #N x M\n",
        "                yh = softmax(np.dot(z2, w))#N\n",
        "                dy = yh - y #N\n",
        "                dw = np.dot(z2.T, dy)/N2 #M\n",
        "\n",
        "                if self.regularization==\"l1\":\n",
        "                    dw[1:] += self.lambdaa * np.sign(w[1:])\n",
        "                elif self.regularization==\"l2\":\n",
        "                    dw[1:] += self.lambdaa * w[1:]\n",
        "\n",
        "                dz2 = np.dot(dy, w.T) #N x M\n",
        "                dz2 = np.array(dz2, dtype=np.float64)\n",
        "                # derivative\n",
        "                dv2 = np.dot(z1.T, dz2 * self.D_act_fun(z2))/N2 #M x M\n",
        "\n",
        "                if self.regularization==\"l1\":\n",
        "                    dv2[1:] += self.lambdaa * np.sign(v2[1:])\n",
        "                elif self.regularization==\"l2\":\n",
        "                    dv2[1:] += self.lambdaa * v2[1:]\n",
        "\n",
        "                dz1 = np.dot(dz2, v2) * self.D_act_fun(z1)\n",
        "                dv1 = np.dot(x2.T, dz1)/N2\n",
        "\n",
        "                if self.regularization==\"l1\":\n",
        "                    dv1[1:] += self.lambdaa * np.sign(v1[1:])\n",
        "                elif self.regularization==\"l2\":\n",
        "                    dv1[1:] += self.lambdaa * v1[1:]\n",
        "\n",
        "                dparams = [dv1, dv2, dw]\n",
        "\n",
        "            self.weights_his = optimizer.w_history\n",
        "            self.cost_his = optimizer.cost_history\n",
        "            return dparams\n",
        "\n",
        "        if(self.num_hidden_layers == 0):\n",
        "            w = np.random.randn(D, C) * .01\n",
        "            self.weights.append(w)\n",
        "\n",
        "        if(self.num_hidden_layers == 1):\n",
        "            w = np.random.randn(self.num_units[0], C) * .01\n",
        "            v1 = np.random.randn(D,self.num_units[0]) * .01\n",
        "            self.weights.append(v1)\n",
        "            self.weights.append(w)\n",
        "\n",
        "        if(self.num_hidden_layers == 2):\n",
        "            w = np.random.randn(self.num_units[1],C) * .01\n",
        "            v2 = np.random.randn(self.num_units[0],self.num_units[1]) * .01\n",
        "            v1 = np.random.randn(D,self.num_units[0]) * .01\n",
        "            self.weights.append(v1)\n",
        "            self.weights.append(v2)\n",
        "            self.weights.append(w)\n",
        "\n",
        "        \n",
        "        self.weights = optimizer.run(gradient, x, y, self.weights)\n",
        "        return self\n",
        "    \n",
        "    def predict(self, x):\n",
        "        if(self.bias):\n",
        "            N = x.shape[0]\n",
        "            x = np.column_stack([x,np.ones(N)])\n",
        "            \n",
        "        if(self.num_hidden_layers == 0):\n",
        "            w = self.weights[0]\n",
        "            yh = softmax(np.dot(x, w))#N\n",
        "            return yh\n",
        "        if(self.num_hidden_layers == 1):\n",
        "            v1, w = self.weights\n",
        "            z = self.act_fun(np.dot(x, v1)) #N x M\n",
        "            yh = softmax(np.dot(z, w))#N\n",
        "            return yh\n",
        "        if(self.num_hidden_layers == 2):\n",
        "            v1, v2, w = self.weights\n",
        "            z1 = self.act_fun(np.dot(x, v1)) #N x M\n",
        "            z2 = self.act_fun(np.dot(z1, v2)) #N x M\n",
        "            yh = softmax(np.dot(z2, w))#N\n",
        "            return yh\n",
        "\n",
        "    def evaluate_acc(self, y, yh):\n",
        "      y_classes = np.argmax(y, axis=1)\n",
        "      yh_classes = np.argmax(yh, axis=1)    \n",
        "      if len(y_classes) != len(yh_classes):\n",
        "        raise ValueError(\"Y arrays must have the same length.\")\n",
        "      total_vals = len(y_classes)\n",
        "      num_correctly_classified = 0\n",
        "      for i in range(len(y_classes)):\n",
        "        if(y_classes[i] == yh_classes[i]): \n",
        "          num_correctly_classified += 1\n",
        "      accuracy = num_correctly_classified/total_vals\n",
        "      print(\"Accuracy: \", accuracy)\n",
        "      return accuracy\n",
        "\n",
        "    def set_params(self, **params):\n",
        "      if 'act_fun' in params:\n",
        "        self.act_fun = params['act_fun']\n",
        "      if 'derivative_act_fun' in params:\n",
        "        self.D_act_fun = params['derivative_act_fun']\n",
        "      if 'num_hidden_layers' in params:\n",
        "        self.num_hidden_layers = params['num_hidden_layers']\n",
        "      if 'learning_rate' in params:\n",
        "        self.learning_rate = params['learning_rate']\n",
        "      if 'batch_size' in params:\n",
        "        self.batch_size = params['batch_size']\n",
        "      if 'n_epochs' in params:\n",
        "        self.n_epochs = params['n_epochs']\n",
        "      return self\n",
        "  "
      ]
    },
    {
      "cell_type": "markdown",
      "metadata": {
        "id": "oKu4Fc7CUsL-"
      },
      "source": [
        "# Data Preprocessing and Analysis"
      ]
    },
    {
      "cell_type": "code",
      "execution_count": null,
      "metadata": {
        "id": "JpI1jm8NaoYr"
      },
      "outputs": [],
      "source": [
        "train_x = []\n",
        "train_y = []\n",
        "columnsY = ['Airplane', 'Automobile', 'Bird', 'Cat', 'Deer', 'Dog', 'Frog', 'Horse', 'Ship', 'Truck']\n",
        "for i, data in enumerate(trainloader, 0):\n",
        "        # get the inputs; data is a list of [inputs, labels]\n",
        "        inputs, labels = data\n",
        "\n",
        "        input = torch.flatten(inputs, 1)\n",
        "        \n",
        "        train_x.append(input)\n",
        "        train_y.append(labels)\n",
        "\n",
        "train_x = torch.cat(train_x, dim=0)\n",
        "train_y = torch.cat(train_y, dim=0)\n",
        "train_y = pd.get_dummies(data=train_y, columns=columnsY).to_numpy()\n",
        "\n",
        "test_x = []\n",
        "test_y = []\n",
        "for i, data in enumerate(testloader, 0):\n",
        "        # get the inputs; data is a list of [inputs, labels]\n",
        "        inputs, labels = data\n",
        "\n",
        "        input = torch.flatten(inputs, 1)\n",
        "        \n",
        "        test_x.append(input)\n",
        "        test_y.append(labels)\n",
        "\n",
        "test_x = torch.cat(test_x, dim=0)\n",
        "test_y = torch.cat(test_y, dim=0)\n",
        "test_y = pd.get_dummies(data=test_y, columns=columnsY).to_numpy()\n",
        "\n",
        "train_x_unormalized = []\n",
        "train_y_unormalized = []\n",
        "for i, data in enumerate(trainloader_unormalized, 0):\n",
        "        # get the inputs; data is a list of [inputs, labels]\n",
        "        inputs, labels = data\n",
        "\n",
        "        input = torch.flatten(inputs, 1)\n",
        "        \n",
        "        train_x_unormalized.append(input)\n",
        "        train_y_unormalized.append(labels)\n",
        "\n",
        "train_x_unormalized = torch.cat(train_x_unormalized, dim=0)\n",
        "train_y_unormalized = torch.cat(train_y_unormalized, dim=0)\n",
        "train_y_unormalized = pd.get_dummies(data=train_y_unormalized, columns=columnsY).to_numpy()\n",
        "\n",
        "test_x_unormalized = []\n",
        "test_y_unormalized = []\n",
        "for i, data in enumerate(testloader, 0):\n",
        "        # get the inputs; data is a list of [inputs, labels]\n",
        "        inputs, labels = data\n",
        "\n",
        "        input = torch.flatten(inputs, 1)\n",
        "        \n",
        "        test_x_unormalized.append(input)\n",
        "        test_y_unormalized.append(labels)\n",
        "\n",
        "test_x_unormalized = torch.cat(test_x_unormalized, dim=0)\n",
        "test_y_unormalized = torch.cat(test_y_unormalized, dim=0)\n",
        "test_y_unormalized = pd.get_dummies(data=test_y_unormalized, columns=columnsY).to_numpy()"
      ]
    },
    {
      "cell_type": "code",
      "execution_count": null,
      "metadata": {
        "colab": {
          "base_uri": "https://localhost:8080/"
        },
        "id": "OFUi4dSzhBuK",
        "outputId": "0fca7b98-1fb4-4015-84a6-5b0b656e2746"
      },
      "outputs": [
        {
          "name": "stdout",
          "output_type": "stream",
          "text": [
            "Number of images of Airplanes:\t\t  5000\n",
            "Number of images of Automobiles:\t  5000\n",
            "Number of images of Bird:\t\t  5000\n",
            "Number of images of Cat:\t\t  5000\n",
            "Number of images of Deer:\t\t  5000\n",
            "Number of images of Dog:\t\t  5000\n",
            "Number of images of Frog:\t\t  5000\n",
            "Number of images of Horse:\t\t  5000\n",
            "Number of images of Ship:\t\t  5000\n",
            "Number of images of Truck:\t\t  5000\n"
          ]
        }
      ],
      "source": [
        "num_airplanes = np.sum(train_y[:, 0])\n",
        "print(\"Number of images of Airplanes:\\t\\t \", num_airplanes)\n",
        "num_automobiles = np.sum(train_y[:, 1])\n",
        "print(\"Number of images of Automobiles:\\t \", num_airplanes)\n",
        "num_automobiles = np.sum(train_y[:, 2])\n",
        "print(\"Number of images of Bird:\\t\\t \", num_airplanes)\n",
        "num_automobiles = np.sum(train_y[:, 3])\n",
        "print(\"Number of images of Cat:\\t\\t \", num_airplanes)\n",
        "num_automobiles = np.sum(train_y[:, 4])\n",
        "print(\"Number of images of Deer:\\t\\t \", num_airplanes)\n",
        "num_automobiles = np.sum(train_y[:, 5])\n",
        "print(\"Number of images of Dog:\\t\\t \", num_airplanes)\n",
        "num_automobiles = np.sum(train_y[:, 6])\n",
        "print(\"Number of images of Frog:\\t\\t \", num_airplanes)\n",
        "num_automobiles = np.sum(train_y[:, 7])\n",
        "print(\"Number of images of Horse:\\t\\t \", num_airplanes)\n",
        "num_automobiles = np.sum(train_y[:, 8])\n",
        "print(\"Number of images of Ship:\\t\\t \", num_airplanes)\n",
        "num_automobiles = np.sum(train_y[:, 9])\n",
        "print(\"Number of images of Truck:\\t\\t \", num_airplanes)"
      ]
    },
    {
      "cell_type": "code",
      "source": [
        "num_airplanes = np.sum(test_y[:, 0])\n",
        "print(\"Number of images of Airplanes:\\t\\t \", num_airplanes)\n",
        "num_automobiles = np.sum(test_y[:, 1])\n",
        "print(\"Number of images of Automobiles:\\t \", num_airplanes)\n",
        "num_automobiles = np.sum(test_y[:, 2])\n",
        "print(\"Number of images of Bird:\\t\\t \", num_airplanes)\n",
        "num_automobiles = np.sum(test_y[:, 3])\n",
        "print(\"Number of images of Cat:\\t\\t \", num_airplanes)\n",
        "num_automobiles = np.sum(test_y[:, 4])\n",
        "print(\"Number of images of Deer:\\t\\t \", num_airplanes)\n",
        "num_automobiles = np.sum(test_y[:, 5])\n",
        "print(\"Number of images of Dog:\\t\\t \", num_airplanes)\n",
        "num_automobiles = np.sum(test_y[:, 6])\n",
        "print(\"Number of images of Frog:\\t\\t \", num_airplanes)\n",
        "num_automobiles = np.sum(test_y[:, 7])\n",
        "print(\"Number of images of Horse:\\t\\t \", num_airplanes)\n",
        "num_automobiles = np.sum(test_y[:, 8])\n",
        "print(\"Number of images of Ship:\\t\\t \", num_airplanes)\n",
        "num_automobiles = np.sum(test_y[:, 9])\n",
        "print(\"Number of images of Truck:\\t\\t \", num_airplanes)"
      ],
      "metadata": {
        "id": "yxtM8EFARsNX"
      },
      "execution_count": null,
      "outputs": []
    },
    {
      "cell_type": "markdown",
      "metadata": {
        "id": "WIEbpIcW7dQX"
      },
      "source": [
        "# Hyperparameter Tuning"
      ]
    },
    {
      "cell_type": "code",
      "execution_count": null,
      "metadata": {
        "id": "DKI9VVy0Vv0E"
      },
      "outputs": [],
      "source": [
        "from sklearn.base import BaseEstimator, ClassifierMixin\n",
        "\n",
        "class MLP_Estimator(BaseEstimator, ClassifierMixin):\n",
        "  \n",
        "  def __init__(self, act_fun = relu, derivative_act_fun = der_relu, num_hidden_layers = 2, num_units = [64, 64], bias = True, learning_rate = 0.0001, batch_size = 16, n_epochs = 100):\n",
        "    self.model = MLP(act_fun, derivative_act_fun, num_hidden_layers, num_units, bias, learning_rate, batch_size, n_epochs)\n",
        "    # super().__init__(act_fun, derivative_act_fun, num_hidden_layers, num_units, bias, learning_rate, batch_size, n_epochs)\n",
        "\n",
        "  def get_params(self, deep=True):\n",
        "    return {'act_fun': self.model.act_fun, \n",
        "            'derivative_act_fun': self.model.D_act_fun, \n",
        "            'num_hidden_layers': self.model.num_hidden_layers,\n",
        "            'num_units': self.model.num_units,\n",
        "            'learning_rate': self.model.learning_rate,\n",
        "            'batch_size': self.model.batch_size,\n",
        "            'n_epochs': self.model.n_epochs}\n",
        "\n",
        "  def set_params(self, **params):\n",
        "    # print(help(self.model.set_params))\n",
        "    # print(*params)\n",
        "    self.model.set_params(params=params)\n",
        "    return self\n",
        "\n",
        "  def fit(self, x, y):\n",
        "    return self.model.fit(x, y)\n",
        "  \n",
        "  def predict(self, x):\n",
        "    return self.model.predict(x)\n",
        "\n",
        "  def score(self, x, y):\n",
        "    yh = self.predict(x)\n",
        "    score = self.model.evaluate_acc(y, yh)\n",
        "    return score"
      ]
    },
    {
      "cell_type": "code",
      "execution_count": null,
      "metadata": {
        "id": "uu-5_85MiELu"
      },
      "outputs": [],
      "source": [
        "def MLP_score(est, x, y):\n",
        "  yh = est.predict(x)\n",
        "  score = est.evalutate_acc(y, yh)\n",
        "  if np.isnan(score):\n",
        "    raise ValueError(\"SCORE IS NAN\")\n",
        "  return score"
      ]
    },
    {
      "cell_type": "code",
      "execution_count": null,
      "metadata": {
        "id": "p1R0kjbU7bu9"
      },
      "outputs": [],
      "source": [
        "from sklearn.model_selection import GridSearchCV, RandomizedSearchCV\n",
        "\n",
        "param_grid = {'learning_rate': [0.0001, 0.001, 0.01, 0.1],\n",
        "              'batch_size': [16, 32, 64, 128],\n",
        "              'n_epochs': [10, 50, 100, 1000]}\n",
        "MLP_estimator = MLP_Estimator()\n",
        "grid_cv = GridSearchCV(estimator=MLP_estimator, param_grid=param_grid, refit=False, verbose=100, error_score='raise')\n",
        "random_cv = RandomizedSearchCV(estimator=MLP_estimator, param_distributions=param_grid, refit=False, verbose=100, error_score='raise')"
      ]
    },
    {
      "cell_type": "code",
      "execution_count": null,
      "metadata": {
        "colab": {
          "base_uri": "https://localhost:8080/",
          "height": 1000
        },
        "id": "kE-73xnrjJPj",
        "outputId": "e4a74d5c-108f-4eb6-e2db-9b8d6671aa37"
      },
      "outputs": [
        {
          "name": "stdout",
          "output_type": "stream",
          "text": [
            "Fitting 5 folds for each of 10 candidates, totalling 50 fits\n",
            "[CV 1/5; 1/10] START batch_size=64, learning_rate=0.001, n_epochs=10............\n",
            "11.289698273815064\n",
            "11.289696026522051\n",
            "11.289693777410536\n",
            "11.289691516253933\n",
            "11.289689242369244\n",
            "11.2896869589156\n",
            "11.28968466156836\n",
            "11.289682353280451\n",
            "11.289680021197062\n",
            "11.28967766504111\n",
            "11.289675296760992\n",
            "11.289672912500842\n",
            "11.289670495644275\n",
            "11.28966805588094\n",
            "11.289665598474317\n",
            "11.289663123698134\n",
            "11.289660626046668\n",
            "11.289658108167181\n",
            "11.289655576476921\n",
            "11.289653022312764\n",
            "11.289650441036116\n",
            "11.28964783089832\n",
            "11.28964518996984\n",
            "11.289642515611359\n",
            "11.289639803977733\n",
            "11.289637053740792\n",
            "11.289634270912309\n",
            "11.28963145141658\n",
            "11.289628595105729\n",
            "11.289625708357184\n",
            "11.289622785154785\n",
            "11.289619822490652\n",
            "11.289616811956538\n",
            "11.289613750446238\n",
            "11.289610649140311\n",
            "11.289607503676931\n",
            "11.289604316666694\n",
            "11.28960107617712\n",
            "11.289597782472567\n",
            "11.289594446639123\n",
            "11.289591064304089\n",
            "11.28958763132991\n",
            "11.289584151743075\n",
            "11.289580611427962\n",
            "11.289577013773933\n",
            "11.289573362371152\n",
            "11.289569660404526\n",
            "11.28956589876967\n",
            "11.289562076107496\n",
            "11.289558193308805\n",
            "11.289554242970423\n",
            "11.289550204974896\n",
            "11.289546100312418\n",
            "11.28954193400008\n",
            "11.289537696341837\n",
            "11.289533383788461\n",
            "11.289528990718365\n",
            "11.289524515402295\n",
            "11.28951996201244\n",
            "11.289515320311219\n",
            "11.289510593235002\n",
            "11.289505768099447\n",
            "11.289500842418196\n",
            "11.28949581727207\n",
            "11.289490681120418\n",
            "11.28948543217007\n",
            "11.289480084266424\n",
            "11.289474627159677\n",
            "11.289469047623495\n",
            "11.289463344247228\n",
            "11.289457510963285\n",
            "11.289451528003726\n",
            "11.289445399041767\n",
            "11.289439124660767\n",
            "11.289432691672678\n",
            "11.289426090713292\n",
            "11.289419316892829\n",
            "11.289412352451272\n",
            "11.289405201884888\n",
            "11.28939785551625\n",
            "11.289390304007982\n",
            "11.289382530138438\n",
            "11.289374523384302\n",
            "11.289366263764505\n",
            "11.289357732444095\n",
            "11.289348931094326\n",
            "11.28933985026503\n",
            "11.289330474589256\n",
            "11.289320790763616\n",
            "11.289310798321225\n",
            "11.289300467174208\n",
            "11.289289768705727\n",
            "11.289278668506617\n",
            "11.289267139875326\n",
            "11.289255179013848\n",
            "11.2892427690496\n",
            "11.28922986437272\n",
            "11.289216434882466\n",
            "11.289202461039968\n",
            "11.289187890819507\n",
            "Cost History: \n",
            "****************************************************************************\n",
            "[11.289698273815064, 11.289696026522051, 11.289693777410536, 11.289691516253933, 11.289689242369244, 11.2896869589156, 11.28968466156836, 11.289682353280451, 11.289680021197062, 11.28967766504111, 11.289675296760992, 11.289672912500842, 11.289670495644275, 11.28966805588094, 11.289665598474317, 11.289663123698134, 11.289660626046668, 11.289658108167181, 11.289655576476921, 11.289653022312764, 11.289650441036116, 11.28964783089832, 11.28964518996984, 11.289642515611359, 11.289639803977733, 11.289637053740792, 11.289634270912309, 11.28963145141658, 11.289628595105729, 11.289625708357184, 11.289622785154785, 11.289619822490652, 11.289616811956538, 11.289613750446238, 11.289610649140311, 11.289607503676931, 11.289604316666694, 11.28960107617712, 11.289597782472567, 11.289594446639123, 11.289591064304089, 11.28958763132991, 11.289584151743075, 11.289580611427962, 11.289577013773933, 11.289573362371152, 11.289569660404526, 11.28956589876967, 11.289562076107496, 11.289558193308805, 11.289554242970423, 11.289550204974896, 11.289546100312418, 11.28954193400008, 11.289537696341837, 11.289533383788461, 11.289528990718365, 11.289524515402295, 11.28951996201244, 11.289515320311219, 11.289510593235002, 11.289505768099447, 11.289500842418196, 11.28949581727207, 11.289490681120418, 11.28948543217007, 11.289480084266424, 11.289474627159677, 11.289469047623495, 11.289463344247228, 11.289457510963285, 11.289451528003726, 11.289445399041767, 11.289439124660767, 11.289432691672678, 11.289426090713292, 11.289419316892829, 11.289412352451272, 11.289405201884888, 11.28939785551625, 11.289390304007982, 11.289382530138438, 11.289374523384302, 11.289366263764505, 11.289357732444095, 11.289348931094326, 11.28933985026503, 11.289330474589256, 11.289320790763616, 11.289310798321225, 11.289300467174208, 11.289289768705727, 11.289278668506617, 11.289267139875326, 11.289255179013848, 11.2892427690496, 11.28922986437272, 11.289216434882466, 11.289202461039968, 11.289187890819507]\n",
            "****************************************************************************\n",
            "Ran through all 100 epochs, final cost: 11.289187890819507\n",
            "Accuracy:  0.1125\n",
            "[CV 1/5; 1/10] END batch_size=64, learning_rate=0.001, n_epochs=10;, score=0.113 total time= 2.9min\n",
            "[CV 2/5; 1/10] START batch_size=64, learning_rate=0.001, n_epochs=10............\n",
            "11.289805500694449\n",
            "11.289801036073804\n",
            "11.289796611216\n",
            "11.289792223345447\n",
            "11.289787873142501\n",
            "11.289783557688429\n",
            "11.289779270732433\n",
            "11.289775004685085\n",
            "11.289770772073338\n",
            "11.289766557701888\n",
            "11.289762361227488\n",
            "11.289758181647525\n",
            "11.289754026067868\n",
            "11.289749897500844\n",
            "11.289745780661411\n",
            "11.289741680988849\n",
            "11.289737606150142\n",
            "11.289733547726717\n",
            "11.289729484753206\n",
            "11.289725429384477\n",
            "11.289721380119245\n",
            "11.289717333763022\n",
            "11.289713290405809\n",
            "11.289709239610074\n",
            "11.289705189086282\n",
            "11.289701134994342\n",
            "11.289697075785664\n",
            "11.289693014115102\n",
            "11.289688933942028\n",
            "11.289684836187446\n",
            "11.28968072656848\n",
            "11.289676600984391\n",
            "11.289672482749308\n",
            "11.28966835164978\n",
            "11.289664196793671\n",
            "11.289660031079668\n",
            "11.289655849969913\n",
            "11.28965164814256\n",
            "11.289647418796118\n",
            "11.289643151685173\n",
            "11.289638845528891\n",
            "11.289634507461834\n",
            "11.289630141021858\n",
            "11.289625741749527\n",
            "11.289621311713411\n",
            "11.289616826959557\n",
            "11.289612288522289\n",
            "11.289607701082847\n",
            "11.289603084759893\n",
            "11.28959841904157\n",
            "11.289593681016704\n",
            "11.289588880037067\n",
            "11.289584031718555\n",
            "11.289579111309287\n"
          ]
        },
        {
          "name": "stderr",
          "output_type": "stream",
          "text": [
            "ERROR:root:Internal Python error in the inspect module.\n",
            "Below is the traceback from this internal error.\n",
            "\n"
          ]
        },
        {
          "name": "stdout",
          "output_type": "stream",
          "text": [
            "Traceback (most recent call last):\n",
            "  File \"/usr/local/lib/python3.9/dist-packages/IPython/core/interactiveshell.py\", line 3326, in run_code\n",
            "    exec(code_obj, self.user_global_ns, self.user_ns)\n",
            "  File \"<ipython-input-23-9b8684f38bef>\", line 1, in <module>\n",
            "    search = random_cv.fit(test_x, test_y)\n",
            "  File \"/usr/local/lib/python3.9/dist-packages/sklearn/model_selection/_search.py\", line 874, in fit\n",
            "    self._run_search(evaluate_candidates)\n",
            "  File \"/usr/local/lib/python3.9/dist-packages/sklearn/model_selection/_search.py\", line 1768, in _run_search\n",
            "    evaluate_candidates(\n",
            "  File \"/usr/local/lib/python3.9/dist-packages/sklearn/model_selection/_search.py\", line 821, in evaluate_candidates\n",
            "    out = parallel(\n",
            "  File \"/usr/local/lib/python3.9/dist-packages/sklearn/utils/parallel.py\", line 63, in __call__\n",
            "    return super().__call__(iterable_with_config)\n",
            "  File \"/usr/local/lib/python3.9/dist-packages/joblib/parallel.py\", line 1088, in __call__\n",
            "    while self.dispatch_one_batch(iterator):\n",
            "  File \"/usr/local/lib/python3.9/dist-packages/joblib/parallel.py\", line 901, in dispatch_one_batch\n",
            "    self._dispatch(tasks)\n",
            "  File \"/usr/local/lib/python3.9/dist-packages/joblib/parallel.py\", line 819, in _dispatch\n",
            "    job = self._backend.apply_async(batch, callback=cb)\n",
            "  File \"/usr/local/lib/python3.9/dist-packages/joblib/_parallel_backends.py\", line 208, in apply_async\n",
            "    result = ImmediateResult(func)\n",
            "  File \"/usr/local/lib/python3.9/dist-packages/joblib/_parallel_backends.py\", line 597, in __init__\n",
            "    self.results = batch()\n",
            "  File \"/usr/local/lib/python3.9/dist-packages/joblib/parallel.py\", line 288, in __call__\n",
            "    return [func(*args, **kwargs)\n",
            "  File \"/usr/local/lib/python3.9/dist-packages/joblib/parallel.py\", line 288, in <listcomp>\n",
            "    return [func(*args, **kwargs)\n",
            "  File \"/usr/local/lib/python3.9/dist-packages/sklearn/utils/parallel.py\", line 123, in __call__\n",
            "    return self.function(*args, **kwargs)\n",
            "  File \"/usr/local/lib/python3.9/dist-packages/sklearn/model_selection/_validation.py\", line 686, in _fit_and_score\n",
            "    estimator.fit(X_train, y_train, **fit_params)\n",
            "  File \"<ipython-input-20-819ebb606c6b>\", line 25, in fit\n",
            "    return self.model.fit(x, y)\n",
            "  File \"<ipython-input-17-2e5e0a9125cb>\", line 132, in fit\n",
            "    self.weights = optimizer.run(gradient, x, y, self.weights)\n",
            "  File \"<ipython-input-16-d7ca3638106b>\", line 32, in run\n",
            "    x_random = x[perm]\n",
            "KeyboardInterrupt\n",
            "\n",
            "During handling of the above exception, another exception occurred:\n",
            "\n",
            "Traceback (most recent call last):\n",
            "  File \"/usr/local/lib/python3.9/dist-packages/IPython/core/interactiveshell.py\", line 2040, in showtraceback\n",
            "    stb = value._render_traceback_()\n",
            "AttributeError: 'KeyboardInterrupt' object has no attribute '_render_traceback_'\n",
            "\n",
            "During handling of the above exception, another exception occurred:\n",
            "\n",
            "Traceback (most recent call last):\n",
            "  File \"/usr/local/lib/python3.9/dist-packages/IPython/core/ultratb.py\", line 1101, in get_records\n",
            "    return _fixed_getinnerframes(etb, number_of_lines_of_context, tb_offset)\n",
            "  File \"/usr/local/lib/python3.9/dist-packages/IPython/core/ultratb.py\", line 319, in wrapped\n",
            "    return f(*args, **kwargs)\n",
            "  File \"/usr/local/lib/python3.9/dist-packages/IPython/core/ultratb.py\", line 353, in _fixed_getinnerframes\n",
            "    records = fix_frame_records_filenames(inspect.getinnerframes(etb, context))\n",
            "  File \"/usr/lib/python3.9/inspect.py\", line 1543, in getinnerframes\n",
            "    frameinfo = (tb.tb_frame,) + getframeinfo(tb, context)\n",
            "  File \"/usr/lib/python3.9/inspect.py\", line 1501, in getframeinfo\n",
            "    filename = getsourcefile(frame) or getfile(frame)\n",
            "  File \"/usr/lib/python3.9/inspect.py\", line 709, in getsourcefile\n",
            "    if getattr(getmodule(object, filename), '__loader__', None) is not None:\n",
            "  File \"/usr/lib/python3.9/inspect.py\", line 752, in getmodule\n",
            "    f = getabsfile(module)\n",
            "  File \"/usr/lib/python3.9/inspect.py\", line 721, in getabsfile\n",
            "    _filename = getsourcefile(object) or getfile(object)\n",
            "  File \"/usr/lib/python3.9/inspect.py\", line 703, in getsourcefile\n",
            "    elif any(filename.endswith(s) for s in\n",
            "  File \"/usr/lib/python3.9/inspect.py\", line 703, in <genexpr>\n",
            "    elif any(filename.endswith(s) for s in\n",
            "  File \"/usr/local/lib/python3.9/dist-packages/torch/utils/data/_utils/signal_handling.py\", line 66, in handler\n",
            "    _error_if_any_worker_fails()\n",
            "RuntimeError: DataLoader worker (pid 28828) exited unexpectedly with exit code 1. Details are lost due to multiprocessing. Rerunning with num_workers=0 may give better error trace.\n"
          ]
        },
        {
          "ename": "KeyboardInterrupt",
          "evalue": "ignored",
          "output_type": "error",
          "traceback": [
            "\u001b[0;31m---------------------------------------------------------------------------\u001b[0m"
          ]
        }
      ],
      "source": [
        "search = random_cv.fit(test_x, test_y)\n",
        "search.best_params_\n",
        "print(search.best_params_)"
      ]
    },
    {
      "cell_type": "markdown",
      "metadata": {
        "id": "XmlV0PuIwoxo"
      },
      "source": [
        "**Random Search CV:**\n",
        "\n",
        "\n",
        "\n",
        "> **Result (best params)**: {'learning_rate': 0.0001, 'batch_size': 16}\n",
        "\n"
      ]
    },
    {
      "cell_type": "markdown",
      "metadata": {
        "id": "jwM0HpiIg0Ix"
      },
      "source": [
        "# Experiments"
      ]
    },
    {
      "cell_type": "markdown",
      "source": [
        "## 3 MLP Models without early stop"
      ],
      "metadata": {
        "id": "sQ2YHcZOSUJv"
      }
    },
    {
      "cell_type": "code",
      "source": [
        "MLP0 = MLP(act_fun=None,\n",
        "           derivative_act_fun=None, \n",
        "           num_hidden_layers=0, \n",
        "           num_units=None, \n",
        "           learning_rate=0.0001, \n",
        "           batch_size=16, \n",
        "           n_epochs = 50,\n",
        "           early_stop=False)\n",
        "MLP1 = MLP(act_fun=relu,\n",
        "           derivative_act_fun=der_relu, \n",
        "           num_hidden_layers=1, \n",
        "           num_units=[256], \n",
        "           learning_rate=0.0001, \n",
        "           batch_size=16, \n",
        "           n_epochs = 50,\n",
        "           early_stop=False)\n",
        "MLP2 = MLP(act_fun=relu,\n",
        "           derivative_act_fun=der_relu, \n",
        "           num_hidden_layers=2, \n",
        "           num_units=[256, 256], \n",
        "           learning_rate=0.0001, \n",
        "           batch_size=16, \n",
        "           n_epochs = 50,\n",
        "           early_stop=False)\n",
        "\n",
        "MLP0_fit = MLP0.fit(train_x, train_y)\n",
        "yh0_train = MLP0_fit.predict(train_x)\n",
        "yh0_test = MLP0_fit.predict(test_x)\n",
        "\n",
        "MLP1_fit = MLP1.fit(train_x, train_y)\n",
        "yh1_train = MLP1_fit.predict(train_x)\n",
        "yh1_test = MLP1_fit.predict(test_x)\n",
        "\n",
        "MLP2_fit = MLP2.fit(train_x, train_y)\n",
        "yh2_train = MLP2_fit.predict(train_x)\n",
        "yh2_test = MLP2_fit.predict(test_x)"
      ],
      "metadata": {
        "id": "Ireimmc6SXfK"
      },
      "execution_count": null,
      "outputs": []
    },
    {
      "cell_type": "markdown",
      "metadata": {
        "id": "uVBpH-p5ccHA"
      },
      "source": [
        "## Cost vs Epoch"
      ]
    },
    {
      "cell_type": "code",
      "execution_count": null,
      "metadata": {
        "colab": {
          "base_uri": "https://localhost:8080/",
          "height": 313
        },
        "id": "N6RqQ-kEK35Z",
        "outputId": "7d8ad74b-44d3-4264-f3e7-d023e030907b"
      },
      "outputs": [
        {
          "data": {
            "image/png": "[encoded data removed]",
            "text/plain": [
              "<Figure size 864x288 with 3 Axes>"
            ]
          },
          "metadata": {},
          "output_type": "display_data"
        }
      ],
      "source": [
        "import matplotlib.pyplot as plt\n",
        "\n",
        "fig, axes = plt.subplots(ncols=3, nrows=1, constrained_layout=True, figsize=(12, 4))\n",
        "\n",
        "cost_h0 = [15.056937714509393, 19.711722466466767, 25.116074972351832, 30.878830953309294, 36.861259490296085, 43.012906744520805, 49.24088998295954, 55.53512024279553, 61.87081081074301, 68.32863924224073]\n",
        "cost_h1 = [13.113086583377292, 13.102426002441586, 13.092060835511411, 13.08188430256366, 13.072010844882426, 13.062599343013106, 13.053754698120631, 13.045558530599328, 13.038089067407489, 13.031402135917833, 13.025538473372785, 13.020537894476636, 13.016430378553185, 13.013251689652146, 13.011037450714364, 13.00982248176176, 13.00964386062743, 13.010543124947306, 13.012558211335511, 13.015731709089104, 13.020112093859774, 13.025740539790785, 13.032666634118902, 13.040936208130175, 13.050596246613091, 13.06171031944963]\n",
        "cost_h2 = [13.122056165553708, 13.121832686306284, 13.12158073861722, 13.1212860949769, 13.120929035343577, 13.120486962495022, 13.119945922774304, 13.119377103722156, 13.119622934313957, 13.129324622882132, 13.304515114424616]\n",
        "\n",
        "fig.suptitle('Cost vs Epoch')\n",
        "\n",
        "axes[0].set_title(\"0 Hidden Layers\")\n",
        "axes[0].set_xlabel(\"Epoch\")\n",
        "axes[0].set_ylabel(\"Cross Entropy Loss\")\n",
        "axes[0].scatter(range(len(cost_h0)), cost_h0)\n",
        "axes[0].plot(range(len(cost_h0)), cost_h0)\n",
        "\n",
        "axes[1].set_title(\"1 Hidden Layer\")\n",
        "axes[1].set_xlabel(\"Epoch\")\n",
        "axes[1].scatter(range(len(cost_h1)), cost_h1)\n",
        "axes[1].plot(range(len(cost_h1)), cost_h1)\n",
        "\n",
        "axes[2].set_title(\"2 Hidden Layer\")\n",
        "axes[2].set_xlabel(\"Epoch\")\n",
        "axes[2].scatter(range(len(cost_h2)), cost_h2)\n",
        "axes[2].plot(range(len(cost_h2)), cost_h2)\n",
        "\n",
        "plt.show()"
      ]
    },
    {
      "cell_type": "markdown",
      "metadata": {
        "id": "tw-5gCy1xQVw"
      },
      "source": [
        "## 3.1 Run on 3 different models"
      ]
    },
    {
      "cell_type": "code",
      "execution_count": null,
      "metadata": {
        "colab": {
          "base_uri": "https://localhost:8080/"
        },
        "id": "1rCf0cSv8BC-",
        "outputId": "e44c5aa1-ebed-4b2c-9172-556900d52b00"
      },
      "outputs": [
        {
          "output_type": "stream",
          "name": "stdout",
          "text": [
            "15.035935761143078\n",
            "19.66034090406464\n",
            "STOP\n",
            "Cost History: \n",
            "****************************************************************************\n",
            "[15.035935761143078]\n",
            "****************************************************************************\n",
            "Stopped after 2 epochs, final cost: 15.035935761143078\n",
            "13.09890402914657\n",
            "13.074509201674227\n",
            "14.015834837319476\n",
            "STOP\n",
            "Cost History: \n",
            "****************************************************************************\n",
            "[13.09890402914657, 13.074509201674227]\n",
            "****************************************************************************\n",
            "Stopped after 3 epochs, final cost: 13.074509201674227\n",
            "13.121795116859067\n",
            "13.121533366471606\n",
            "13.12123680864229\n",
            "13.120887047265173\n",
            "13.12046096152601\n",
            "13.119927970354697\n",
            "13.119246315370711\n",
            "13.118372079112818\n",
            "13.117348813286538\n",
            "13.117000866304698\n",
            "13.12627006926209\n",
            "STOP\n",
            "Cost History: \n",
            "****************************************************************************\n",
            "[13.121795116859067, 13.121533366471606, 13.12123680864229, 13.120887047265173, 13.12046096152601, 13.119927970354697, 13.119246315370711, 13.118372079112818, 13.117348813286538, 13.117000866304698]\n",
            "****************************************************************************\n",
            "Stopped after 11 epochs, final cost: 13.117000866304698\n",
            "Accuracy:  0.2844\n",
            "Accuracy:  0.2159\n",
            "Accuracy:  0.1081\n"
          ]
        }
      ],
      "source": [
        "MLP0 = MLP(act_fun=None,\n",
        "           derivative_act_fun=None, \n",
        "           num_hidden_layers=0, \n",
        "           num_units=None, \n",
        "           learning_rate=0.0001, \n",
        "           batch_size=16, \n",
        "           n_epochs = 100)\n",
        "MLP1 = MLP(act_fun=relu,\n",
        "           derivative_act_fun=der_relu, \n",
        "           num_hidden_layers=1, \n",
        "           num_units=[256], \n",
        "           learning_rate=0.0001, \n",
        "           batch_size=16, \n",
        "           n_epochs = 100)\n",
        "MLP2 = MLP(act_fun=relu,\n",
        "           derivative_act_fun=der_relu, \n",
        "           num_hidden_layers=2, \n",
        "           num_units=[256, 256], \n",
        "           learning_rate=0.0001, \n",
        "           batch_size=16, \n",
        "           n_epochs = 100)\n",
        "\n",
        "yh0 = MLP0.fit(train_x, train_y).predict(test_x)\n",
        "yh1 = MLP1.fit(train_x, train_y).predict(test_x)\n",
        "yh2 = MLP2.fit(train_x, train_y).predict(test_x)\n",
        "\n",
        "acc0 = MLP0.evaluate_acc(test_y, yh0)\n",
        "acc1 = MLP1.evaluate_acc(test_y, yh1)\n",
        "acc2 = MLP2.evaluate_acc(test_y, yh2)"
      ]
    },
    {
      "cell_type": "markdown",
      "metadata": {
        "id": "m_tU2Y8V9jG9"
      },
      "source": [
        "## 3.2 Try with tanh and Leaky-ReLU"
      ]
    },
    {
      "cell_type": "code",
      "execution_count": null,
      "metadata": {
        "id": "qz37ylVM-VAU"
      },
      "outputs": [],
      "source": [
        "MLP_tanh = MLP(act_fun=tanh,\n",
        "           derivative_act_fun=der_tanh, \n",
        "           num_hidden_layers=2, \n",
        "           num_units=[256, 256], \n",
        "           learning_rate=0.0001, \n",
        "           batch_size=16, \n",
        "           n_epochs = 100)\n",
        "\n",
        "MLP_tanh_fit = MLP_tanh.fit(train_x, train_y)\n",
        "yh_tanh_train = MLP_tanh_fit.predict(train_x)\n",
        "yh_tanh_test = MLP_tanh_fit.predict(test_x)\n",
        "acc_tanh_train = MLP_tanh_fit.evaluate_acc(train_y, yh_tanh_train)\n",
        "acc_tanh_test = MLP_tanh_fit.evaluate_acc(test_y, yh_tanh_test)\n",
        "print(\"Train Accuracy: \", acc_tanh_train)\n",
        "print(\"Test Accuracy: \", acc_tanh_test)"
      ]
    },
    {
      "cell_type": "code",
      "execution_count": null,
      "metadata": {
        "id": "BAzpW3PI1p7_"
      },
      "outputs": [],
      "source": [
        "MLP_leaky = MLP(act_fun=leaky_relu,\n",
        "           derivative_act_fun=der_leaky_relu, \n",
        "           num_hidden_layers=2, \n",
        "           num_units=[256, 256], \n",
        "           learning_rate=0.0001, \n",
        "           batch_size=16, \n",
        "           n_epochs = 100)\n",
        "MLP_leaky_fit = MLP_leaky.fit(train_x, train_y)\n",
        "yh_leaky_train = MLP_leaky_fit.predict(train_x)\n",
        "yh_leaky_test = MLP_leaky_fit.predict(test_x)\n",
        "acc_leaky_train = MLP_leaky_fit.evaluate_acc(train_y, yh_leaky_train)\n",
        "acc_leaky_test = MLP_leaky_fit.evaluate_acc(test_y, yh_leaky_test)\n",
        "print(\"Train Accuracy: \", acc_leaky_train)\n",
        "print(\"Test Accuracy: \", acc_leaky_test)"
      ]
    },
    {
      "cell_type": "markdown",
      "source": [
        "## Evaluate Effect of Width"
      ],
      "metadata": {
        "id": "Y0oEQjJTSoyI"
      }
    },
    {
      "cell_type": "code",
      "source": [
        "# [16, 16]\n",
        "MLP = MLP(act_fun=relu,\n",
        "          derivative_act_fun=der_relu, \n",
        "          num_hidden_layers=2, \n",
        "          num_units=[16,16], \n",
        "          learning_rate=0.0001, \n",
        "          batch_size=16, \n",
        "          n_epochs = 100)\n",
        "yh = MLP.fit(train_x, train_y).predict(test_x)\n",
        "acc = MLP.evaluate_acc(test_y, yh)\n",
        "print(\"Width [16,16] has accuracy: \", acc)"
      ],
      "metadata": {
        "id": "r5Qg9dTES_m6"
      },
      "execution_count": null,
      "outputs": []
    },
    {
      "cell_type": "code",
      "source": [
        "# [32, 32]\n",
        "MLP = MLP(act_fun=relu,\n",
        "          derivative_act_fun=der_relu, \n",
        "          num_hidden_layers=2, \n",
        "          num_units=[32,32], \n",
        "          learning_rate=0.0001, \n",
        "          batch_size=16, \n",
        "          n_epochs = 100)\n",
        "yh = MLP.fit(train_x, train_y).predict(test_x)\n",
        "acc = MLP.evaluate_acc(test_y, yh)\n",
        "print(\"Width [32,32] has accuracy: \", acc)"
      ],
      "metadata": {
        "id": "yXV83ExHTDjA"
      },
      "execution_count": null,
      "outputs": []
    },
    {
      "cell_type": "code",
      "source": [
        "# [64, 64]\n",
        "MLP = MLP(act_fun=relu,\n",
        "          derivative_act_fun=der_relu, \n",
        "          num_hidden_layers=2, \n",
        "          num_units=[64,64], \n",
        "          learning_rate=0.0001, \n",
        "          batch_size=16, \n",
        "          n_epochs = 100)\n",
        "yh = MLP.fit(train_x, train_y).predict(test_x)\n",
        "acc = MLP.evaluate_acc(test_y, yh)\n",
        "print(\"Width [64,64] has accuracy: \", acc)"
      ],
      "metadata": {
        "id": "wUZ8XHnrTOcI"
      },
      "execution_count": null,
      "outputs": []
    },
    {
      "cell_type": "code",
      "source": [
        "# [128, 128]\n",
        "MLP = MLP(act_fun=relu,\n",
        "          derivative_act_fun=der_relu, \n",
        "          num_hidden_layers=2, \n",
        "          num_units=[128,128], \n",
        "          learning_rate=0.0001, \n",
        "          batch_size=16, \n",
        "          n_epochs = 100)\n",
        "yh = MLP.fit(train_x, train_y).predict(test_x)\n",
        "acc = MLP.evaluate_acc(test_y, yh)\n",
        "print(\"Width [128,128] has accuracy: \", acc)"
      ],
      "metadata": {
        "id": "bnk4Oa0GTSaw"
      },
      "execution_count": null,
      "outputs": []
    },
    {
      "cell_type": "code",
      "source": [
        "# [256, 256]\n",
        "MLP = MLP(act_fun=relu,\n",
        "          derivative_act_fun=der_relu, \n",
        "          num_hidden_layers=2, \n",
        "          num_units=[256,256], \n",
        "          learning_rate=0.0001, \n",
        "          batch_size=16, \n",
        "          n_epochs = 100)\n",
        "yh = MLP.fit(train_x, train_y).predict(test_x)\n",
        "acc = MLP.evaluate_acc(test_y, yh)\n",
        "print(\"Width [256,256] has accuracy: \", acc)"
      ],
      "metadata": {
        "id": "TBczaiytTVRp"
      },
      "execution_count": null,
      "outputs": []
    },
    {
      "cell_type": "code",
      "source": [
        "# [512, 512]\n",
        "MLP = MLP(act_fun=relu,\n",
        "          derivative_act_fun=der_relu, \n",
        "          num_hidden_layers=2, \n",
        "          num_units=[512,512], \n",
        "          learning_rate=0.0001, \n",
        "          batch_size=16, \n",
        "          n_epochs = 100)\n",
        "yh = MLP.fit(train_x, train_y).predict(test_x)\n",
        "acc = MLP.evaluate_acc(test_y, yh)\n",
        "print(\"Width [512,512] has accuracy: \", acc)"
      ],
      "metadata": {
        "id": "usBCSr7LTXVC"
      },
      "execution_count": null,
      "outputs": []
    },
    {
      "cell_type": "code",
      "source": [
        "# [1024, 1024]\n",
        "MLP = MLP(act_fun=relu,\n",
        "          derivative_act_fun=der_relu, \n",
        "          num_hidden_layers=2, \n",
        "          num_units=[1024,1024], \n",
        "          learning_rate=0.0001, \n",
        "          batch_size=16, \n",
        "          n_epochs = 100)\n",
        "yh = MLP.fit(train_x, train_y).predict(test_x)\n",
        "acc = MLP.evaluate_acc(test_y, yh)\n",
        "print(\"Width [1024,1024] has accuracy: \", acc)"
      ],
      "metadata": {
        "id": "YjDgLWEITZxK"
      },
      "execution_count": null,
      "outputs": []
    },
    {
      "cell_type": "code",
      "source": [
        "# With ReLU\n",
        "accuracies = [0.1, 0.117, 0.1061, 0.1027, 0.1013, 0.2189, 0.1494]\n",
        "num_units = [16, 32, 64, 128, 256, 512, 1024]\n",
        "\n",
        "colors = ['r','g', 'b', 'm', 'y', 'c', 'k']\n",
        "\n",
        "f = plt.figure()\n",
        "f.set_figwidth(10)\n",
        "\n",
        "for i in range(len(num_units)):\n",
        "  plt.plot(num_units[i], accuracies[i], '.', markersize=10, markeredgecolor=colors[i], markerfacecolor=colors[i], label=(f'units per layer = {num_units[i]}'))\n",
        "\n",
        "plt.title(\"Accuracy vs Number of Units\")\n",
        "plt.legend()\n",
        "plt.show()"
      ],
      "metadata": {
        "id": "Wh-1ExJYTci-"
      },
      "execution_count": null,
      "outputs": []
    },
    {
      "cell_type": "markdown",
      "metadata": {
        "id": "RGrgzZVI_jZp"
      },
      "source": [
        "## 3.3 L1 and L2 Regularization"
      ]
    },
    {
      "cell_type": "code",
      "execution_count": null,
      "metadata": {
        "colab": {
          "base_uri": "https://localhost:8080/"
        },
        "id": "8RoaWup__hZD",
        "outputId": "ed38b147-aeea-4d5b-fc03-c912871d68cb"
      },
      "outputs": [
        {
          "name": "stdout",
          "output_type": "stream",
          "text": [
            "13.122363390039958\n",
            "13.122363382189542\n",
            "13.12236338948376\n",
            "STOP\n",
            "Cost History: \n",
            "****************************************************************************\n",
            "[13.122363390039958, 13.122363382189542]\n",
            "****************************************************************************\n",
            "Stopped after 3 epochs, final cost: 13.122363382189542\n",
            "Accuracy:  0.1218\n",
            "accuracy for l1 with lambda ( 1 ):  0.1218\n",
            "13.122363374629389\n",
            "13.12236338130905\n",
            "STOP\n",
            "Cost History: \n",
            "****************************************************************************\n",
            "[13.122363374629389]\n",
            "****************************************************************************\n",
            "Stopped after 2 epochs, final cost: 13.122363374629389\n",
            "Accuracy:  0.0892\n",
            "accuracy for l1 with lambda ( 0 ):  0.0892\n",
            "13.122363366697494\n",
            "13.122363369652517\n",
            "STOP\n",
            "Cost History: \n",
            "****************************************************************************\n",
            "[13.122363366697494]\n",
            "****************************************************************************\n",
            "Stopped after 2 epochs, final cost: 13.122363366697494\n",
            "Accuracy:  0.0976\n",
            "accuracy for l1 with lambda ( 0.1 ):  0.0976\n",
            "13.12222530623367\n",
            "13.12228190042554\n",
            "STOP\n",
            "Cost History: \n",
            "****************************************************************************\n",
            "[13.12222530623367]\n",
            "****************************************************************************\n",
            "Stopped after 2 epochs, final cost: 13.12222530623367\n",
            "Accuracy:  0.1373\n",
            "accuracy for l2 with lambda ( 1 ):  0.1373\n",
            "13.122213831966317\n",
            "13.121987843675752\n",
            "13.121743843042644\n",
            "13.121468240267271\n",
            "13.12114370343316\n",
            "13.120749373578006\n",
            "13.120257765997467\n",
            "13.119645196941276\n",
            "13.118990387404727\n",
            "13.119264058903266\n",
            "STOP\n",
            "Cost History: \n",
            "****************************************************************************\n",
            "[13.122213831966317, 13.121987843675752, 13.121743843042644, 13.121468240267271, 13.12114370343316, 13.120749373578006, 13.120257765997467, 13.119645196941276, 13.118990387404727]\n",
            "****************************************************************************\n",
            "Stopped after 10 epochs, final cost: 13.118990387404727\n",
            "Accuracy:  0.1767\n",
            "accuracy for l2 with lambda ( 0 ):  0.1767\n",
            "13.12224425043348\n",
            "13.122068907746135\n",
            "13.12191897640641\n",
            "13.121785598715558\n",
            "13.121662014411353\n",
            "13.121543607940572\n",
            "13.121426059520536\n",
            "13.12130499397579\n",
            "13.121175640982045\n",
            "13.121033928072608\n",
            "13.120873604639389\n",
            "13.120689893038154\n",
            "13.120491396740304\n",
            "13.120370111620396\n",
            "13.120877206998202\n",
            "STOP\n",
            "Cost History: \n",
            "****************************************************************************\n",
            "[13.12224425043348, 13.122068907746135, 13.12191897640641, 13.121785598715558, 13.121662014411353, 13.121543607940572, 13.121426059520536, 13.12130499397579, 13.121175640982045, 13.121033928072608, 13.120873604639389, 13.120689893038154, 13.120491396740304, 13.120370111620396]\n",
            "****************************************************************************\n",
            "Stopped after 15 epochs, final cost: 13.120370111620396\n",
            "Accuracy:  0.1855\n",
            "accuracy for l2 with lambda ( 0.1 ):  0.1855\n"
          ]
        }
      ],
      "source": [
        "las = [1,0,0.1]\n",
        "acc1 = []\n",
        "acc2 = []\n",
        "# gradient with L1 regularization\n",
        "for la in las:\n",
        "    temp = []\n",
        "    MLP_l1 = MLP(act_fun=relu,\n",
        "              derivative_act_fun=der_relu, \n",
        "              num_hidden_layers=2, \n",
        "              num_units=[256, 256], \n",
        "              learning_rate=0.0001, \n",
        "              batch_size=16, \n",
        "              n_epochs = 100,\n",
        "              regularization = \"l1\")\n",
        "    yh_l1 = MLP_l1.fit(train_x, train_y).predict(test_x)\n",
        "    acc_l1 = MLP_l1.evaluate_acc(test_y, yh_l1)\n",
        "    print(\"accuracy for l1 with lambda (\", la, \"): \",acc_l1)\n",
        "\n",
        "    acc1.append(MLP_l1.cost_his)\n",
        "\n",
        "# gradient with L2 regularization\n",
        "for la in las:\n",
        "    MLP_l2 = MLP(act_fun=relu,\n",
        "              derivative_act_fun=der_relu, \n",
        "              num_hidden_layers=2, \n",
        "              num_units=[256, 256], \n",
        "              learning_rate=0.0001, \n",
        "              batch_size=16, \n",
        "              n_epochs = 100,\n",
        "              regularization = \"l2\",\n",
        "              lambdaa=la)\n",
        "    yh_l2 = MLP_l2.fit(train_x, train_y).predict(test_x)\n",
        "    acc_l2 = MLP_l2.evaluate_acc(test_y, yh_l2)\n",
        "    print(\"accuracy for l2 with lambda (\", la, \"): \",acc_l2)\n",
        "    acc2.append(MLP_l2.cost_his)\n",
        "\n"
      ]
    },
    {
      "cell_type": "code",
      "execution_count": null,
      "metadata": {
        "colab": {
          "base_uri": "https://localhost:8080/",
          "height": 609
        },
        "id": "CLIWNb5N0eZ6",
        "outputId": "109c899f-4437-49c8-e2a4-e431e41a2573"
      },
      "outputs": [
        {
          "data": {
            "image/png": "[encoded data removed]",
            "text/plain": [
              "<Figure size 864x288 with 3 Axes>"
            ]
          },
          "metadata": {},
          "output_type": "display_data"
        },
        {
          "data": {
            "image/png": "[encoded data removed]",
            "text/plain": [
              "<Figure size 864x288 with 3 Axes>"
            ]
          },
          "metadata": {},
          "output_type": "display_data"
        }
      ],
      "source": [
        "fig, axes = plt.subplots(ncols=3, nrows=1, constrained_layout=True, figsize=(12, 4))\n",
        "\n",
        "cost_h0 = acc1[0]\n",
        "cost_h1 = acc1[1]\n",
        "cost_h2 = acc1[2]\n",
        "\n",
        "fig.suptitle('Cost vs Epoch with L1 Regularization')\n",
        "\n",
        "axes[0].set_title(\"Lambda = 1\")\n",
        "axes[0].set_xlabel(\"Epoch\")\n",
        "axes[0].set_ylabel(\"Cross Entropy Loss\")\n",
        "axes[0].scatter(range(len(cost_h0)), cost_h0)\n",
        "axes[0].plot(range(len(cost_h0)), cost_h0)\n",
        "\n",
        "axes[1].set_title(\"Lambda = 0\")\n",
        "axes[1].set_xlabel(\"Epoch\")\n",
        "axes[1].scatter(range(len(cost_h1)), cost_h1)\n",
        "axes[1].plot(range(len(cost_h1)), cost_h1)\n",
        "\n",
        "axes[2].set_title(\"Lambda = 0.1\")\n",
        "axes[2].set_xlabel(\"Epoch\")\n",
        "axes[2].scatter(range(len(cost_h2)), cost_h2)\n",
        "axes[2].plot(range(len(cost_h2)), cost_h2)\n",
        "\n",
        "plt.show()\n",
        "\n",
        "fig, axes = plt.subplots(ncols=3, nrows=1, constrained_layout=True, figsize=(12, 4))\n",
        "\n",
        "cost_h0 = acc2[0]\n",
        "cost_h1 = acc2[1]\n",
        "cost_h2 = acc2[2]\n",
        "\n",
        "fig.suptitle('Cost vs Epoch with L2 Regularization')\n",
        "\n",
        "axes[0].set_title(\"Lambda = 1\")\n",
        "axes[0].set_xlabel(\"Epoch\")\n",
        "axes[0].set_ylabel(\"Cross Entropy Loss\")\n",
        "axes[0].scatter(range(len(cost_h0)), cost_h0)\n",
        "axes[0].plot(range(len(cost_h0)), cost_h0)\n",
        "\n",
        "axes[1].set_title(\"Lambda = 0\")\n",
        "axes[1].set_xlabel(\"Epoch\")\n",
        "axes[1].scatter(range(len(cost_h1)), cost_h1)\n",
        "axes[1].plot(range(len(cost_h1)), cost_h1)\n",
        "\n",
        "axes[2].set_title(\"Lambda = 0.1\")\n",
        "axes[2].set_xlabel(\"Epoch\")\n",
        "axes[2].scatter(range(len(cost_h2)), cost_h2)\n",
        "axes[2].plot(range(len(cost_h2)), cost_h2)\n",
        "\n",
        "plt.show()"
      ]
    },
    {
      "cell_type": "markdown",
      "metadata": {
        "id": "EmkY5gNx_lS-"
      },
      "source": [
        "## 3.4 Unnormalized Images"
      ]
    },
    {
      "cell_type": "code",
      "execution_count": null,
      "metadata": {
        "colab": {
          "base_uri": "https://localhost:8080/"
        },
        "id": "5Hm8KOE0_mcd",
        "outputId": "0ea300d6-d068-4730-dc93-7409966aa754"
      },
      "outputs": [
        {
          "output_type": "stream",
          "name": "stdout",
          "text": [
            "13.122212345328604\n",
            "13.122176734672943\n",
            "13.122201204793244\n",
            "STOP\n",
            "Cost History: \n",
            "****************************************************************************\n",
            "[13.122212345328604, 13.122176734672943]\n",
            "****************************************************************************\n",
            "Stopped after 3 epochs, final cost: 13.122176734672943\n",
            "Accuracy:  0.1049\n",
            "Accuracy:  0.1049\n"
          ]
        }
      ],
      "source": [
        "# train with unnormalized images\n",
        "\n",
        "MLP_unormalized = MLP(act_fun=relu,\n",
        "           derivative_act_fun=der_relu, \n",
        "           num_hidden_layers=2, \n",
        "           num_units=[256, 256], \n",
        "           learning_rate=0.0001, \n",
        "           batch_size=16, \n",
        "           n_epochs = 100)\n",
        "\n",
        "yh_unormalized = MLP_unormalized.fit(train_x_unormalized, train_y_unormalized).predict(test_x_unormalized)\n",
        "\n",
        "acc_unormalized = MLP_unormalized.evaluate_acc(test_y_unormalized, yh_unormalized)\n",
        "print(\"Accuracy: \", acc_unormalized)\n",
        "\n",
        "cost_his = MLP_unormalized.cost_his"
      ]
    },
    {
      "cell_type": "code",
      "execution_count": null,
      "metadata": {
        "colab": {
          "base_uri": "https://localhost:8080/",
          "height": 295
        },
        "id": "AQ0O6jLvmR4n",
        "outputId": "92886def-6512-43c8-87c4-bc4e210f880d"
      },
      "outputs": [
        {
          "output_type": "display_data",
          "data": {
            "text/plain": [
              "<Figure size 432x288 with 1 Axes>"
            ],
            "image/png": "[encoded data removed]"
          },
          "metadata": {
            "needs_background": "light"
          }
        }
      ],
      "source": [
        "plt.plot(range(len(MLP_unormalized.cost_his)),MLP_unormalized.cost_his)\n",
        "plt.ylabel('Cross Entropy Loss')\n",
        "plt.xlabel('Epoch')\n",
        "plt.title('Unnormalized Data')\n",
        "plt.show()"
      ]
    },
    {
      "cell_type": "markdown",
      "metadata": {
        "id": "oslVI7TL4Dbh"
      },
      "source": [
        "## 3.5"
      ]
    },
    {
      "cell_type": "code",
      "execution_count": null,
      "metadata": {
        "colab": {
          "base_uri": "https://localhost:8080/"
        },
        "id": "tsIMrJmq4C0i",
        "outputId": "1e22ccc4-470d-4c19-94ec-f94077893da8"
      },
      "outputs": [
        {
          "output_type": "stream",
          "name": "stdout",
          "text": [
            "Model: \"sequential_2\"\n",
            "_________________________________________________________________\n",
            " Layer (type)                Output Shape              Param #   \n",
            "=================================================================\n",
            " conv2d_4 (Conv2D)           (None, 30, 30, 32)        896       \n",
            "                                                                 \n",
            " conv2d_5 (Conv2D)           (None, 28, 28, 64)        18496     \n",
            "                                                                 \n",
            " flatten_2 (Flatten)         (None, 50176)             0         \n",
            "                                                                 \n",
            " dense_4 (Dense)             (None, 64)                3211328   \n",
            "                                                                 \n",
            " dense_5 (Dense)             (None, 10)                650       \n",
            "                                                                 \n",
            "=================================================================\n",
            "Total params: 3,231,370\n",
            "Trainable params: 3,231,370\n",
            "Non-trainable params: 0\n",
            "_________________________________________________________________\n",
            "Epoch 1/10\n",
            "1563/1563 [==============================] - 195s 124ms/step - loss: 1.3988 - accuracy: 0.5047 - val_loss: 1.1568 - val_accuracy: 0.5929\n",
            "Epoch 2/10\n",
            "1563/1563 [==============================] - 166s 106ms/step - loss: 0.9914 - accuracy: 0.6529 - val_loss: 1.0724 - val_accuracy: 0.6217\n",
            "Epoch 3/10\n",
            "1563/1563 [==============================] - 167s 107ms/step - loss: 0.8003 - accuracy: 0.7202 - val_loss: 1.0475 - val_accuracy: 0.6395\n",
            "Epoch 4/10\n",
            "1563/1563 [==============================] - 172s 110ms/step - loss: 0.6186 - accuracy: 0.7851 - val_loss: 1.1139 - val_accuracy: 0.6405\n",
            "Epoch 5/10\n",
            "1563/1563 [==============================] - 175s 112ms/step - loss: 0.4516 - accuracy: 0.8433 - val_loss: 1.3046 - val_accuracy: 0.6195\n",
            "Epoch 6/10\n",
            "1563/1563 [==============================] - 173s 110ms/step - loss: 0.3151 - accuracy: 0.8908 - val_loss: 1.5470 - val_accuracy: 0.6230\n",
            "Epoch 7/10\n",
            "1563/1563 [==============================] - 166s 107ms/step - loss: 0.2091 - accuracy: 0.9284 - val_loss: 1.8809 - val_accuracy: 0.6210\n",
            "Epoch 8/10\n",
            "1563/1563 [==============================] - 167s 107ms/step - loss: 0.1527 - accuracy: 0.9477 - val_loss: 2.1207 - val_accuracy: 0.6068\n",
            "Epoch 9/10\n",
            "1563/1563 [==============================] - 167s 107ms/step - loss: 0.1149 - accuracy: 0.9607 - val_loss: 2.3109 - val_accuracy: 0.6159\n",
            "Epoch 10/10\n",
            "1563/1563 [==============================] - 166s 107ms/step - loss: 0.0953 - accuracy: 0.9678 - val_loss: 2.7402 - val_accuracy: 0.6061\n"
          ]
        }
      ],
      "source": [
        "import tensorflow as tf\n",
        "\n",
        "from tensorflow.keras import datasets, layers, models\n",
        "import matplotlib.pyplot as plt\n",
        "\n",
        "\n",
        "# fetching the data using tensorset\n",
        "(train_images, train_labels), (test_images, test_labels) = datasets.cifar10.load_data()\n",
        "\n",
        "# Normalize the data using tensorset\n",
        "train_images, test_images = train_images / 255.0, test_images / 255.0\n",
        "\n",
        "#creating convolutional base\n",
        "model = models.Sequential()\n",
        "\n",
        "#first and second layer for convolutional\n",
        "model.add(layers.Conv2D(32, (3, 3), activation='relu', input_shape=(32, 32, 3)))\n",
        "\n",
        "model.add(layers.Conv2D(64, (3, 3), activation='relu'))\n",
        "\n",
        "#simply flatten the data(not a layer)\n",
        "model.add(layers.Flatten())\n",
        "\n",
        "#last 2 layers\n",
        "model.add(layers.Dense(64, activation='relu'))\n",
        "model.add(layers.Dense(10))\n",
        "model.summary()\n",
        "\n",
        "model.compile(optimizer='adam',\n",
        "              loss=tf.keras.losses.SparseCategoricalCrossentropy(from_logits=True),\n",
        "              metrics=['accuracy'])\n",
        "\n",
        "graph = model.fit(train_images, train_labels, epochs=10, validation_data=(test_images, test_labels))\n"
      ]
    },
    {
      "cell_type": "code",
      "execution_count": null,
      "metadata": {
        "id": "WPuNKhMsmyc5",
        "colab": {
          "base_uri": "https://localhost:8080/",
          "height": 332
        },
        "outputId": "bd3510be-d214-47b7-b31f-32cc83e075eb"
      },
      "outputs": [
        {
          "output_type": "stream",
          "name": "stdout",
          "text": [
            "313/313 - 8s - loss: 2.7402 - accuracy: 0.6061 - 8s/epoch - 24ms/step\n",
            "0.6061000227928162\n"
          ]
        },
        {
          "output_type": "display_data",
          "data": {
            "text/plain": [
              "<Figure size 432x288 with 1 Axes>"
            ],
            "image/png": "[encoded data removed]"
          },
          "metadata": {
            "needs_background": "light"
          }
        }
      ],
      "source": [
        "#plot accuracy graph\n",
        "plt.plot(graph.history['accuracy'], label='train accuracy')\n",
        "plt.plot(graph.history['val_accuracy'], label = 'test accuracy')\n",
        "plt.title('Accuracy by Epoch')\n",
        "plt.xlabel('Epoch')\n",
        "plt.ylabel('Accuracy')\n",
        "plt.ylim([0.5, 1])\n",
        "plt.legend(loc='lower right')\n",
        "\n",
        "#accuracy percentage\n",
        "loss, accuracy = model.evaluate(test_images,  test_labels, verbose=2)\n",
        "print(accuracy)"
      ]
    },
    {
      "cell_type": "markdown",
      "metadata": {
        "id": "etKNaPOHoXBN"
      },
      "source": [
        "## 3.6\n"
      ]
    },
    {
      "cell_type": "markdown",
      "source": [
        "Experiment with 2 connected layers."
      ],
      "metadata": {
        "id": "FuvYW0j7ppzp"
      }
    },
    {
      "cell_type": "code",
      "execution_count": null,
      "metadata": {
        "id": "wAr0abJeoZRw",
        "colab": {
          "base_uri": "https://localhost:8080/"
        },
        "outputId": "48dd3ec4-e7cb-4379-87b8-4095907b665f"
      },
      "outputs": [
        {
          "output_type": "stream",
          "name": "stderr",
          "text": [
            "WARNING:tensorflow:`input_shape` is undefined or non-square, or `rows` is not in [96, 128, 160, 192, 224]. Weights for input shape (224, 224) will be loaded as the default.\n"
          ]
        },
        {
          "output_type": "stream",
          "name": "stdout",
          "text": [
            "Downloading data from https://storage.googleapis.com/tensorflow/keras-applications/mobilenet_v2/mobilenet_v2_weights_tf_dim_ordering_tf_kernels_1.0_224_no_top.h5\n",
            "9406464/9406464 [==============================] - 0s 0us/step\n",
            "Epoch 1/5\n",
            "1563/1563 [==============================] - 203s 125ms/step - loss: 1.3763 - sparse_categorical_accuracy: 0.5306\n",
            "Epoch 2/5\n",
            "1563/1563 [==============================] - 184s 118ms/step - loss: 1.0871 - sparse_categorical_accuracy: 0.6331\n",
            "Epoch 3/5\n",
            "1563/1563 [==============================] - 181s 116ms/step - loss: 0.9932 - sparse_categorical_accuracy: 0.6631\n",
            "Epoch 4/5\n",
            "1563/1563 [==============================] - 183s 117ms/step - loss: 0.9311 - sparse_categorical_accuracy: 0.6833\n",
            "Epoch 5/5\n",
            "1563/1563 [==============================] - 181s 116ms/step - loss: 0.8783 - sparse_categorical_accuracy: 0.7028\n"
          ]
        }
      ],
      "source": [
        "from tensorflow import keras\n",
        "from keras.layers import Conv2D, Dense\n",
        "from keras.models import Sequential\n",
        "from keras.layers import MaxPooling2D\n",
        "from keras.layers import GlobalMaxPooling2D\n",
        "from keras import datasets\n",
        "from keras.layers.core import Dense, Activation\n",
        "import matplotlib.pyplot as plt\n",
        "from keras.applications.mobilenet_v2 import MobileNetV2\n",
        "\n",
        "(train_images, train_labels), (test_images, test_labels) = datasets.cifar10.load_data()\n",
        "\n",
        "train_images, test_images = train_images / 255, test_images / 255\n",
        "\n",
        "shape = (32, 32, 3)\n",
        "\n",
        "# pre-trained model with MobileNetV2\n",
        "base_model = MobileNetV2(input_shape=shape, include_top=False, weights='imagenet')\n",
        "\n",
        "#freeze everything from the pre-trained model\n",
        "base_model.trainable = True\n",
        "for layer in base_model.layers[:100]:\n",
        "  layer.trainable =  False\n",
        "\n",
        "# add layers\n",
        "maxpool_layer = GlobalMaxPooling2D()\n",
        "layer1 = Dense(units=256, activation='relu')\n",
        "layer2 = Dense(units=10, activation='softmax')\n",
        "\n",
        "\n",
        "model = Sequential([\n",
        "    base_model,\n",
        "    maxpool_layer,\n",
        "    layer1,\n",
        "    layer2\n",
        "])\n",
        "model.compile(loss=\"sparse_categorical_crossentropy\", optimizer=\"Adam\", metrics=[\"sparse_categorical_accuracy\"])\n",
        "\n",
        "hist= model.fit(train_images, train_labels, epochs=5)\n",
        "\n"
      ]
    },
    {
      "cell_type": "code",
      "source": [
        "#Plot graph1\n",
        "plt.plot(hist.history['sparse_categorical_accuracy'], label=\"Training accuracy\")\n",
        "plt.legend(loc = \"lower right\")\n",
        "plt.xlabel('Epoch')\n",
        "plt.ylabel('Accuracy')\n",
        "plt.title(\"Training Accuracy using 2 Connected Layers by Epoch\")\n",
        "plt.show()"
      ],
      "metadata": {
        "colab": {
          "base_uri": "https://localhost:8080/",
          "height": 295
        },
        "id": "yN74o2g3bvel",
        "outputId": "dd1f8101-9406-49c1-c690-32d666b0b5f2"
      },
      "execution_count": null,
      "outputs": [
        {
          "output_type": "display_data",
          "data": {
            "text/plain": [
              "<Figure size 432x288 with 1 Axes>"
            ],
            "image/png": "[encoded data removed]"
          },
          "metadata": {
            "needs_background": "light"
          }
        }
      ]
    },
    {
      "cell_type": "markdown",
      "source": [
        "Experiment with 3 connected layers"
      ],
      "metadata": {
        "id": "vwvP7W5wptjG"
      }
    },
    {
      "cell_type": "code",
      "source": [
        "from tensorflow import keras\n",
        "from keras.layers import Conv2D, Dense\n",
        "from keras.models import Sequential\n",
        "from keras.layers import MaxPooling2D\n",
        "from keras.layers import GlobalMaxPooling2D\n",
        "from keras import datasets\n",
        "from keras.layers.core import Dense, Activation\n",
        "import matplotlib.pyplot as plt\n",
        "from keras.applications.mobilenet_v2 import MobileNetV2\n",
        "\n",
        "(train_images, train_labels), (test_images, test_labels) = datasets.cifar10.load_data()\n",
        "\n",
        "train_images, test_images = train_images / 255, test_images / 255\n",
        "\n",
        "shape = (32, 32, 3)\n",
        "# Pre-trained MobileNetV2 model\n",
        "base_model = MobileNetV2(input_shape=shape, include_top=False, weights='imagenet')\n",
        "\n",
        "#freeze everything from the pre-trained model\n",
        "base_model.trainable = True\n",
        "for layer in base_model.layers[:100]:\n",
        "  layer.trainable =  False\n",
        "\n",
        "# add layers\n",
        "maxpool_layer = GlobalMaxPooling2D()\n",
        "layer1 = Dense(units=512, activation='relu')\n",
        "layer2 = Dense(units=256, activation='relu')\n",
        "layer3 = Dense(units=10, activation='softmax')\n",
        "\n",
        "#layer stacking\n",
        "model = Sequential([\n",
        "    base_model,\n",
        "    maxpool_layer,\n",
        "    layer1,\n",
        "    layer2,\n",
        "    layer3\n",
        "])\n",
        "model.compile(loss=\"sparse_categorical_crossentropy\", optimizer=\"Adam\", metrics=[\"sparse_categorical_accuracy\"])\n",
        "\n",
        "hist= model.fit(train_images, train_labels, epochs=5)\n"
      ],
      "metadata": {
        "colab": {
          "base_uri": "https://localhost:8080/"
        },
        "id": "XPRrgMBvp2sO",
        "outputId": "61c201a8-0d97-4baf-c7e4-58dc5f2f86de"
      },
      "execution_count": null,
      "outputs": [
        {
          "output_type": "stream",
          "name": "stderr",
          "text": [
            "WARNING:tensorflow:`input_shape` is undefined or non-square, or `rows` is not in [96, 128, 160, 192, 224]. Weights for input shape (224, 224) will be loaded as the default.\n"
          ]
        },
        {
          "output_type": "stream",
          "name": "stdout",
          "text": [
            "Epoch 1/5\n",
            "1563/1563 [==============================] - 193s 120ms/step - loss: 1.3567 - sparse_categorical_accuracy: 0.5401\n",
            "Epoch 2/5\n",
            "1563/1563 [==============================] - 188s 120ms/step - loss: 1.0881 - sparse_categorical_accuracy: 0.6345\n",
            "Epoch 3/5\n",
            "1563/1563 [==============================] - 188s 120ms/step - loss: 0.9926 - sparse_categorical_accuracy: 0.6667\n",
            "Epoch 4/5\n",
            "1563/1563 [==============================] - 189s 121ms/step - loss: 0.9246 - sparse_categorical_accuracy: 0.6903\n",
            "Epoch 5/5\n",
            "1563/1563 [==============================] - 188s 120ms/step - loss: 0.8529 - sparse_categorical_accuracy: 0.7121\n"
          ]
        }
      ]
    },
    {
      "cell_type": "code",
      "source": [
        "#Plot graph2\n",
        "plt.plot(hist.history['sparse_categorical_accuracy'], label=\"Training accuracy\")\n",
        "plt.legend(loc = \"lower right\")\n",
        "plt.xlabel('Epoch')\n",
        "plt.ylabel('Accuracy')\n",
        "plt.title(\"Training Accuracy using 3 Connected Layers by Epoch\")\n",
        "plt.show()"
      ],
      "metadata": {
        "colab": {
          "base_uri": "https://localhost:8080/",
          "height": 295
        },
        "id": "lyQOsYYlp5H5",
        "outputId": "b9010d9e-5338-427c-f3b0-c17cfafb3135"
      },
      "execution_count": null,
      "outputs": [
        {
          "output_type": "display_data",
          "data": {
            "text/plain": [
              "<Figure size 432x288 with 1 Axes>"
            ],
            "image/png": "[encoded data removed]"
          },
          "metadata": {
            "needs_background": "light"
          }
        }
      ]
    }
  ],
  "metadata": {
    "colab": {
      "provenance": []
    },
    "kernelspec": {
      "display_name": "Python 3",
      "name": "python3"
    },
    "language_info": {
      "name": "python"
    },
    "widgets": {
      "application/vnd.jupyter.widget-state+json": {
        "19b518fea89041a7bfe52ae7a5db3ed1": {
          "model_module": "@jupyter-widgets/controls",
          "model_module_version": "1.5.0",
          "model_name": "DescriptionStyleModel",
          "state": {
            "_model_module": "@jupyter-widgets/controls",
            "_model_module_version": "1.5.0",
            "_model_name": "DescriptionStyleModel",
            "_view_count": null,
            "_view_module": "@jupyter-widgets/base",
            "_view_module_version": "1.2.0",
            "_view_name": "StyleView",
            "description_width": ""
          }
        },
        "1be7e58a4e0a4d15891a4234a543c133": {
          "model_module": "@jupyter-widgets/controls",
          "model_module_version": "1.5.0",
          "model_name": "HTMLModel",
          "state": {
            "_dom_classes": [],
            "_model_module": "@jupyter-widgets/controls",
            "_model_module_version": "1.5.0",
            "_model_name": "HTMLModel",
            "_view_count": null,
            "_view_module": "@jupyter-widgets/controls",
            "_view_module_version": "1.5.0",
            "_view_name": "HTMLView",
            "description": "",
            "description_tooltip": null,
            "layout": "IPY_MODEL_a199212ec9fa46b0a9ef8297031dcdb7",
            "placeholder": "​",
            "style": "IPY_MODEL_19b518fea89041a7bfe52ae7a5db3ed1",
            "value": " 170498071/170498071 [00:04&lt;00:00, 59051590.26it/s]"
          }
        },
        "617a5b2b2922455f8f33b6bad8f04da2": {
          "model_module": "@jupyter-widgets/base",
          "model_module_version": "1.2.0",
          "model_name": "LayoutModel",
          "state": {
            "_model_module": "@jupyter-widgets/base",
            "_model_module_version": "1.2.0",
            "_model_name": "LayoutModel",
            "_view_count": null,
            "_view_module": "@jupyter-widgets/base",
            "_view_module_version": "1.2.0",
            "_view_name": "LayoutView",
            "align_content": null,
            "align_items": null,
            "align_self": null,
            "border": null,
            "bottom": null,
            "display": null,
            "flex": null,
            "flex_flow": null,
            "grid_area": null,
            "grid_auto_columns": null,
            "grid_auto_flow": null,
            "grid_auto_rows": null,
            "grid_column": null,
            "grid_gap": null,
            "grid_row": null,
            "grid_template_areas": null,
            "grid_template_columns": null,
            "grid_template_rows": null,
            "height": null,
            "justify_content": null,
            "justify_items": null,
            "left": null,
            "margin": null,
            "max_height": null,
            "max_width": null,
            "min_height": null,
            "min_width": null,
            "object_fit": null,
            "object_position": null,
            "order": null,
            "overflow": null,
            "overflow_x": null,
            "overflow_y": null,
            "padding": null,
            "right": null,
            "top": null,
            "visibility": null,
            "width": null
          }
        },
        "69a14b8188c044d29b1f98c721bfec5b": {
          "model_module": "@jupyter-widgets/base",
          "model_module_version": "1.2.0",
          "model_name": "LayoutModel",
          "state": {
            "_model_module": "@jupyter-widgets/base",
            "_model_module_version": "1.2.0",
            "_model_name": "LayoutModel",
            "_view_count": null,
            "_view_module": "@jupyter-widgets/base",
            "_view_module_version": "1.2.0",
            "_view_name": "LayoutView",
            "align_content": null,
            "align_items": null,
            "align_self": null,
            "border": null,
            "bottom": null,
            "display": null,
            "flex": null,
            "flex_flow": null,
            "grid_area": null,
            "grid_auto_columns": null,
            "grid_auto_flow": null,
            "grid_auto_rows": null,
            "grid_column": null,
            "grid_gap": null,
            "grid_row": null,
            "grid_template_areas": null,
            "grid_template_columns": null,
            "grid_template_rows": null,
            "height": null,
            "justify_content": null,
            "justify_items": null,
            "left": null,
            "margin": null,
            "max_height": null,
            "max_width": null,
            "min_height": null,
            "min_width": null,
            "object_fit": null,
            "object_position": null,
            "order": null,
            "overflow": null,
            "overflow_x": null,
            "overflow_y": null,
            "padding": null,
            "right": null,
            "top": null,
            "visibility": null,
            "width": null
          }
        },
        "75e6963a5db748a4b97a4b2ca889ec91": {
          "model_module": "@jupyter-widgets/base",
          "model_module_version": "1.2.0",
          "model_name": "LayoutModel",
          "state": {
            "_model_module": "@jupyter-widgets/base",
            "_model_module_version": "1.2.0",
            "_model_name": "LayoutModel",
            "_view_count": null,
            "_view_module": "@jupyter-widgets/base",
            "_view_module_version": "1.2.0",
            "_view_name": "LayoutView",
            "align_content": null,
            "align_items": null,
            "align_self": null,
            "border": null,
            "bottom": null,
            "display": null,
            "flex": null,
            "flex_flow": null,
            "grid_area": null,
            "grid_auto_columns": null,
            "grid_auto_flow": null,
            "grid_auto_rows": null,
            "grid_column": null,
            "grid_gap": null,
            "grid_row": null,
            "grid_template_areas": null,
            "grid_template_columns": null,
            "grid_template_rows": null,
            "height": null,
            "justify_content": null,
            "justify_items": null,
            "left": null,
            "margin": null,
            "max_height": null,
            "max_width": null,
            "min_height": null,
            "min_width": null,
            "object_fit": null,
            "object_position": null,
            "order": null,
            "overflow": null,
            "overflow_x": null,
            "overflow_y": null,
            "padding": null,
            "right": null,
            "top": null,
            "visibility": null,
            "width": null
          }
        },
        "799289ea44f84354bdc159cb94b9a6a7": {
          "model_module": "@jupyter-widgets/controls",
          "model_module_version": "1.5.0",
          "model_name": "DescriptionStyleModel",
          "state": {
            "_model_module": "@jupyter-widgets/controls",
            "_model_module_version": "1.5.0",
            "_model_name": "DescriptionStyleModel",
            "_view_count": null,
            "_view_module": "@jupyter-widgets/base",
            "_view_module_version": "1.2.0",
            "_view_name": "StyleView",
            "description_width": ""
          }
        },
        "86ef6d4b667a4955b34d281ad35dc33c": {
          "model_module": "@jupyter-widgets/controls",
          "model_module_version": "1.5.0",
          "model_name": "HBoxModel",
          "state": {
            "_dom_classes": [],
            "_model_module": "@jupyter-widgets/controls",
            "_model_module_version": "1.5.0",
            "_model_name": "HBoxModel",
            "_view_count": null,
            "_view_module": "@jupyter-widgets/controls",
            "_view_module_version": "1.5.0",
            "_view_name": "HBoxView",
            "box_style": "",
            "children": [
              "IPY_MODEL_f04992193a14484a8412def475826f96",
              "IPY_MODEL_c72263c9d61a4ff6bae980c237590f36",
              "IPY_MODEL_1be7e58a4e0a4d15891a4234a543c133"
            ],
            "layout": "IPY_MODEL_75e6963a5db748a4b97a4b2ca889ec91"
          }
        },
        "95d8c5171111403597ada6b392e64d2d": {
          "model_module": "@jupyter-widgets/controls",
          "model_module_version": "1.5.0",
          "model_name": "ProgressStyleModel",
          "state": {
            "_model_module": "@jupyter-widgets/controls",
            "_model_module_version": "1.5.0",
            "_model_name": "ProgressStyleModel",
            "_view_count": null,
            "_view_module": "@jupyter-widgets/base",
            "_view_module_version": "1.2.0",
            "_view_name": "StyleView",
            "bar_color": null,
            "description_width": ""
          }
        },
        "a199212ec9fa46b0a9ef8297031dcdb7": {
          "model_module": "@jupyter-widgets/base",
          "model_module_version": "1.2.0",
          "model_name": "LayoutModel",
          "state": {
            "_model_module": "@jupyter-widgets/base",
            "_model_module_version": "1.2.0",
            "_model_name": "LayoutModel",
            "_view_count": null,
            "_view_module": "@jupyter-widgets/base",
            "_view_module_version": "1.2.0",
            "_view_name": "LayoutView",
            "align_content": null,
            "align_items": null,
            "align_self": null,
            "border": null,
            "bottom": null,
            "display": null,
            "flex": null,
            "flex_flow": null,
            "grid_area": null,
            "grid_auto_columns": null,
            "grid_auto_flow": null,
            "grid_auto_rows": null,
            "grid_column": null,
            "grid_gap": null,
            "grid_row": null,
            "grid_template_areas": null,
            "grid_template_columns": null,
            "grid_template_rows": null,
            "height": null,
            "justify_content": null,
            "justify_items": null,
            "left": null,
            "margin": null,
            "max_height": null,
            "max_width": null,
            "min_height": null,
            "min_width": null,
            "object_fit": null,
            "object_position": null,
            "order": null,
            "overflow": null,
            "overflow_x": null,
            "overflow_y": null,
            "padding": null,
            "right": null,
            "top": null,
            "visibility": null,
            "width": null
          }
        },
        "c72263c9d61a4ff6bae980c237590f36": {
          "model_module": "@jupyter-widgets/controls",
          "model_module_version": "1.5.0",
          "model_name": "FloatProgressModel",
          "state": {
            "_dom_classes": [],
            "_model_module": "@jupyter-widgets/controls",
            "_model_module_version": "1.5.0",
            "_model_name": "FloatProgressModel",
            "_view_count": null,
            "_view_module": "@jupyter-widgets/controls",
            "_view_module_version": "1.5.0",
            "_view_name": "ProgressView",
            "bar_style": "success",
            "description": "",
            "description_tooltip": null,
            "layout": "IPY_MODEL_69a14b8188c044d29b1f98c721bfec5b",
            "max": 170498071,
            "min": 0,
            "orientation": "horizontal",
            "style": "IPY_MODEL_95d8c5171111403597ada6b392e64d2d",
            "value": 170498071
          }
        },
        "f04992193a14484a8412def475826f96": {
          "model_module": "@jupyter-widgets/controls",
          "model_module_version": "1.5.0",
          "model_name": "HTMLModel",
          "state": {
            "_dom_classes": [],
            "_model_module": "@jupyter-widgets/controls",
            "_model_module_version": "1.5.0",
            "_model_name": "HTMLModel",
            "_view_count": null,
            "_view_module": "@jupyter-widgets/controls",
            "_view_module_version": "1.5.0",
            "_view_name": "HTMLView",
            "description": "",
            "description_tooltip": null,
            "layout": "IPY_MODEL_617a5b2b2922455f8f33b6bad8f04da2",
            "placeholder": "​",
            "style": "IPY_MODEL_799289ea44f84354bdc159cb94b9a6a7",
            "value": "100%"
          }
        }
      }
    }
  },
  "nbformat": 4,
  "nbformat_minor": 0
}